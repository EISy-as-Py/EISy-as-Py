{
 "cells": [
  {
   "cell_type": "code",
   "execution_count": 36,
   "metadata": {},
   "outputs": [],
   "source": [
    "import os\n",
    "import cv2\n",
    "import numpy as np\n",
    "from tqdm import tqdm\n",
    "\n",
    "REBUILD_DATA =False\n",
    "\n",
    "## pre-processing step\n",
    "\n",
    "class DogsVSCats():\n",
    "    IMG_SIZE = 50\n",
    "    CATS = \"PetImages/Cat\" # give the directory of images\n",
    "    DOGS = \"PetImages/Dog\"\n",
    "    LABELS = {CATS: 0, DOGS: 1}  \n",
    "    training_data = []\n",
    "    catcount = 0\n",
    "    dogcount = 0 # make sure the \"balance\"\n",
    "    \n",
    "    def make_training_data(self):\n",
    "        for label in self.LABELS: #iterate the directory\n",
    "            print(label)\n",
    "            for f in tqdm(os.listdir(label)):  # iterate all the image within the directory, f -> the file name\n",
    "                try:\n",
    "                    path = os.path.join(label, f) # get the full path to the image\n",
    "                    img = cv2.imread(path, cv2.IMREAD_GRAYSCALE) # convert the iimage to gray scale (optional)\n",
    "                    img = cv2.resize(img, (self.IMG_SIZE, self.IMG_SIZE))\n",
    "                    self.training_data.append([np.array(img), np.eye(2)[self.LABELS[label]]])\n",
    "\n",
    "                    if label == self.CATS:\n",
    "                        self.catcount += 1\n",
    "                    elif label == self.DOGS:\n",
    "                        self.dogcount += 1\n",
    "                except Exception as e:\n",
    "                    pass\n",
    "\n",
    "        np.random.shuffle(self.training_data)\n",
    "        np.save(\"training_data.npy\", self.training_data)\n",
    "        print(\"Cats:\", self.catcount)\n",
    "        print(\"Dogs:\", self.dogcount)\n",
    "        \n",
    "if REBUILD_DATA:\n",
    "    dogsvcats = DogsVSCats()\n",
    "    dogsvcats.make_training_data()"
   ]
  },
  {
   "cell_type": "code",
   "execution_count": 38,
   "metadata": {},
   "outputs": [],
   "source": [
    "training_data = np.load(\"training_data.npy\", allow_pickle = True)"
   ]
  },
  {
   "cell_type": "code",
   "execution_count": 39,
   "metadata": {},
   "outputs": [
    {
     "name": "stdout",
     "output_type": "stream",
     "text": [
      "24946\n"
     ]
    }
   ],
   "source": [
    "print(len(training_data))"
   ]
  },
  {
   "cell_type": "code",
   "execution_count": 47,
   "metadata": {},
   "outputs": [
    {
     "name": "stdout",
     "output_type": "stream",
     "text": [
      "[array([[150, 109,  69, ...,  91,  81, 125],\n",
      "       [114,  83,  88, ...,  60,  63,  93],\n",
      "       [136,  88,  69, ...,  63,  86,  86],\n",
      "       ...,\n",
      "       [ 43,  72,  94, ...,  63,  77,  71],\n",
      "       [108,  84, 114, ...,  53,  62,  46],\n",
      "       [ 82, 102, 110, ...,  41,  52,  72]], dtype=uint8)\n",
      " array([0., 1.])]\n",
      "[array([[ 91, 105, 106, ..., 234, 230, 215],\n",
      "       [ 95,  96, 100, ..., 236, 156, 144],\n",
      "       [100, 101, 101, ..., 153, 162, 200],\n",
      "       ...,\n",
      "       [123, 113, 102, ..., 215, 215, 214],\n",
      "       [ 87,  72,  60, ..., 215, 216, 216],\n",
      "       [ 39,  20,  26, ..., 204, 215, 216]], dtype=uint8)\n",
      " array([0., 1.])]\n",
      "[array([[115, 105, 107, ..., 109, 108, 120],\n",
      "       [116, 106, 103, ..., 104, 104, 113],\n",
      "       [125, 108, 106, ..., 109, 104, 119],\n",
      "       ...,\n",
      "       [178, 180, 186, ...,  79,  78,  83],\n",
      "       [ 80,  85,  95, ...,  77,  73,  83],\n",
      "       [100,  89,  88, ...,  75,  77,  78]], dtype=uint8)\n",
      " array([1., 0.])]\n",
      "[array([[ 10,  14,  16, ..., 160, 148, 131],\n",
      "       [ 22,  28,  34, ..., 166, 149, 136],\n",
      "       [ 19,  22,  31, ..., 173, 162, 132],\n",
      "       ...,\n",
      "       [ 71,  81,  86, ...,  37,  40,  45],\n",
      "       [ 70,  78, 129, ...,  35,  38,  43],\n",
      "       [ 68, 115,  93, ...,  33,  36,  39]], dtype=uint8)\n",
      " array([1., 0.])]\n"
     ]
    }
   ],
   "source": [
    "for i in range(4):\n",
    "    print(training_data[i])"
   ]
  },
  {
   "cell_type": "code",
   "execution_count": 48,
   "metadata": {},
   "outputs": [],
   "source": [
    "import matplotlib.pyplot as plt\n"
   ]
  },
  {
   "cell_type": "code",
   "execution_count": 74,
   "metadata": {},
   "outputs": [
    {
     "data": {
      "image/png": "[encoded data removed]",
      "text/plain": [
       "<Figure size 432x288 with 1 Axes>"
      ]
     },
     "metadata": {
      "needs_background": "light"
     },
     "output_type": "display_data"
    }
   ],
   "source": [
    "plt.imshow(training_data[1][0], cmap=\"gray\")\n",
    "plt.show()"
   ]
  },
  {
   "cell_type": "code",
   "execution_count": 61,
   "metadata": {},
   "outputs": [
    {
     "name": "stdout",
     "output_type": "stream",
     "text": [
      "[0. 1.]\n"
     ]
    }
   ],
   "source": [
    "print(training_data[1][1])"
   ]
  },
  {
   "cell_type": "code",
   "execution_count": 68,
   "metadata": {},
   "outputs": [
    {
     "name": "stdout",
     "output_type": "stream",
     "text": [
      "[0. 1.]\n",
      "[0. 1.]\n",
      "[1. 0.]\n",
      "[1. 0.]\n",
      "[0. 1.]\n"
     ]
    }
   ],
   "source": [
    "for i in range(5):\n",
    "    print(training_data[i][1])"
   ]
  },
  {
   "cell_type": "code",
   "execution_count": 70,
   "metadata": {},
   "outputs": [
    {
     "data": {
      "text/plain": [
       "array([[ 91, 105, 106, ..., 234, 230, 215],\n",
       "       [ 95,  96, 100, ..., 236, 156, 144],\n",
       "       [100, 101, 101, ..., 153, 162, 200],\n",
       "       ...,\n",
       "       [123, 113, 102, ..., 215, 215, 214],\n",
       "       [ 87,  72,  60, ..., 215, 216, 216],\n",
       "       [ 39,  20,  26, ..., 204, 215, 216]], dtype=uint8)"
      ]
     },
     "execution_count": 70,
     "metadata": {},
     "output_type": "execute_result"
    }
   ],
   "source": [
    "training_data[1][0]"
   ]
  },
  {
   "cell_type": "code",
   "execution_count": 71,
   "metadata": {},
   "outputs": [
    {
     "data": {
      "text/plain": [
       "array([0., 1.])"
      ]
     },
     "execution_count": 71,
     "metadata": {},
     "output_type": "execute_result"
    }
   ],
   "source": [
    "training_data[1][1]"
   ]
  },
  {
   "cell_type": "code",
   "execution_count": 15,
   "metadata": {
    "scrolled": true
   },
   "outputs": [
    {
     "data": {
      "text/plain": [
       "array(3)"
      ]
     },
     "execution_count": 15,
     "metadata": {},
     "output_type": "execute_result"
    }
   ],
   "source": [
    "np.array(3)"
   ]
  },
  {
   "cell_type": "code",
   "execution_count": 16,
   "metadata": {},
   "outputs": [
    {
     "data": {
      "text/plain": [
       "[]"
      ]
     },
     "execution_count": 16,
     "metadata": {},
     "output_type": "execute_result"
    }
   ],
   "source": [
    "data = []\n",
    "data"
   ]
  },
  {
   "cell_type": "code",
   "execution_count": 17,
   "metadata": {},
   "outputs": [],
   "source": [
    "#data.append([np.array(3)])"
   ]
  },
  {
   "cell_type": "code",
   "execution_count": 18,
   "metadata": {},
   "outputs": [
    {
     "data": {
      "text/plain": [
       "[]"
      ]
     },
     "execution_count": 18,
     "metadata": {},
     "output_type": "execute_result"
    }
   ],
   "source": [
    "data"
   ]
  },
  {
   "cell_type": "code",
   "execution_count": 19,
   "metadata": {},
   "outputs": [
    {
     "name": "stdout",
     "output_type": "stream",
     "text": [
      "[[array(0), array([1., 0., 0.])]]\n",
      "[[array(0), array([1., 0., 0.])], [array(1), array([0., 1., 0.])]]\n",
      "[[array(0), array([1., 0., 0.])], [array(1), array([0., 1., 0.])], [array(2), array([0., 0., 1.])]]\n"
     ]
    }
   ],
   "source": [
    "for i in range(3):\n",
    "    data.append([np.array(i), np.eye(3)[i]])\n",
    "    print(data)"
   ]
  },
  {
   "cell_type": "code",
   "execution_count": null,
   "metadata": {},
   "outputs": [],
   "source": []
  }
 ],
 "metadata": {
  "kernelspec": {
   "display_name": "Python 3",
   "language": "python",
   "name": "python3"
  },
  "language_info": {
   "codemirror_mode": {
    "name": "ipython",
    "version": 3
   },
   "file_extension": ".py",
   "mimetype": "text/x-python",
   "name": "python",
   "nbconvert_exporter": "python",
   "pygments_lexer": "ipython3",
   "version": "3.7.4"
  }
 },
 "nbformat": 4,
 "nbformat_minor": 2
}
