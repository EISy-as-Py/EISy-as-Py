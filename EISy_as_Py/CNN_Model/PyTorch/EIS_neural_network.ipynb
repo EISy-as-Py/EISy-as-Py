{
 "cells": [
  {
   "cell_type": "markdown",
   "metadata": {},
   "source": [
    "**Import necessary package**"
   ]
  },
  {
   "cell_type": "code",
   "execution_count": 2,
   "metadata": {},
   "outputs": [],
   "source": [
    "import numpy as np\n",
    "import matplotlib.pyplot as plt\n",
    "#from scipy.misc import imread\n",
    "from IPython import display\n",
    "from PIL import Image\n",
    "%matplotlib inline"
   ]
  },
  {
   "cell_type": "code",
   "execution_count": 3,
   "metadata": {},
   "outputs": [],
   "source": [
    "import os\n",
    "import cv2\n",
    "from tqdm import tqdm"
   ]
  },
  {
   "cell_type": "code",
   "execution_count": 4,
   "metadata": {},
   "outputs": [],
   "source": [
    "import torch\n",
    "import torch.nn as nn\n",
    "import torch.nn.functional as F\n",
    "import torch.optim as optim\n",
    "import torchvision\n",
    "from torchvision import transforms, datasets\n",
    "from torch.utils.data import DataLoader"
   ]
  },
  {
   "cell_type": "markdown",
   "metadata": {},
   "source": [
    "**Data Pre-Processing**"
   ]
  },
  {
   "cell_type": "code",
   "execution_count": null,
   "metadata": {},
   "outputs": [],
   "source": [
    "REBUILD_DATA = True\n",
    "\n",
    "class EISType():\n",
    "    IMG_SIZE = 32\n",
    "    \n",
    "    # A = \"\"  Determine the number of type and then give the directory of each type of image\n",
    "    # B = \"\"\n",
    "    # C = \"\"\n",
    "    # D = \"\"\n",
    "    # E = \"\"\n",
    "    LABELS = {A:0, B:1, C:2, D:3, E:4}\n",
    "    training_data = []\n",
    "    acount = 0\n",
    "    bcount = 0\n",
    "    ccount = 0\n",
    "    dcount = 0\n",
    "    ecount = 0\n",
    "    \n"
   ]
  },
  {
   "cell_type": "markdown",
   "metadata": {},
   "source": [
    "**NN Model**"
   ]
  },
  {
   "cell_type": "code",
   "execution_count": 5,
   "metadata": {},
   "outputs": [],
   "source": [
    "class Net(nn.Module):\n",
    "    \n",
    "    def __init__(self, input_size, hidden_size, kernel_size, output_size):\n",
    "        super(Net, self).__init__()\n",
    "        self.conv1 = nn.Conv2d(input_size, hidden_size, kernel_size) \n",
    "        self.conv2 = nn.Conv2d(hidden_size, hidden_size*2, kernel_size)\n",
    "        self.conv3 = nn.Conv2d(hidden_size*2, hidden_size*4, kernel_size)\n",
    "        self.conv4 = nn.Conv2d(hidden_size*4, hidden_size*8, kernel_size)\n",
    "        \n",
    "        self.fc1 = nn.Linear(68610, 64) \n",
    "        self.fc2 = nn.Linear(64, output_size)\n",
    "    \n",
    "    def forward(self, x):\n",
    "        x = F.max_pool2d(F.relu(self.conv1(x)), (3,3))\n",
    "        x = F.max_pool2d(F.relu(self.conv2(x)), (2,2))\n",
    "        x = F.max_pool2d(F.relu(self.conv3(x)), (2,2))\n",
    "        x = F.max_pool2d(F.relu(self.conv4(x)), (2,2))\n",
    "        \n",
    "        xF = x.view(-1, 64 * 71 * 15 ) # flatten\n",
    "        output = F.relu(self.fc1(xF)) # put into the first fully connected layer\n",
    "        output = self.fc2(x)\n",
    "        \n",
    "        return F.softmax(output, dim=1)"
   ]
  },
  {
   "cell_type": "code",
   "execution_count": 6,
   "metadata": {},
   "outputs": [],
   "source": [
    "net = Net(1, 8, 25, 5)"
   ]
  },
  {
   "cell_type": "code",
   "execution_count": null,
   "metadata": {},
   "outputs": [],
   "source": []
  },
  {
   "cell_type": "code",
   "execution_count": null,
   "metadata": {},
   "outputs": [],
   "source": []
  }
 ],
 "metadata": {
  "kernelspec": {
   "display_name": "Python 3",
   "language": "python",
   "name": "python3"
  },
  "language_info": {
   "codemirror_mode": {
    "name": "ipython",
    "version": 3
   },
   "file_extension": ".py",
   "mimetype": "text/x-python",
   "name": "python",
   "nbconvert_exporter": "python",
   "pygments_lexer": "ipython3",
   "version": "3.7.4"
  }
 },
 "nbformat": 4,
 "nbformat_minor": 2
}
