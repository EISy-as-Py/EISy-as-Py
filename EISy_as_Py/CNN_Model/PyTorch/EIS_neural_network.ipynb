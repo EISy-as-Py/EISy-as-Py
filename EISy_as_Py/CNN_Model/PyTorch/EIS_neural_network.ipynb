{
 "cells": [
  {
   "cell_type": "markdown",
   "metadata": {},
   "source": [
    "### Import Necessary Package"
   ]
  },
  {
   "cell_type": "code",
   "execution_count": 7,
   "metadata": {},
   "outputs": [],
   "source": [
    "import numpy as np\n",
    "import matplotlib.pyplot as plt\n",
    "import skimage\n",
    "#from scipy.misc import imread\n",
    "from IPython import display\n",
    "from PIL import Image\n",
    "from skimage.transform import rescale\n",
    "%matplotlib inline"
   ]
  },
  {
   "cell_type": "code",
   "execution_count": 8,
   "metadata": {},
   "outputs": [],
   "source": [
    "import os\n",
    "import cv2\n",
    "from tqdm import tqdm"
   ]
  },
  {
   "cell_type": "code",
   "execution_count": 9,
   "metadata": {},
   "outputs": [],
   "source": [
    "import torch\n",
    "import torch.nn as nn\n",
    "import torch.nn.functional as F\n",
    "import torch.optim as optim\n",
    "import torchvision\n",
    "from torchvision import transforms, datasets\n",
    "from torch.utils.data import DataLoader"
   ]
  },
  {
   "cell_type": "markdown",
   "metadata": {},
   "source": [
    "### Data Pre-Processing\n",
    "\n",
    "Get image from the directory."
   ]
  },
  {
   "cell_type": "code",
   "execution_count": 127,
   "metadata": {
    "scrolled": true
   },
   "outputs": [
    {
     "name": "stdout",
     "output_type": "stream",
     "text": [
      "Nyquist/Missing\n"
     ]
    },
    {
     "name": "stderr",
     "output_type": "stream",
     "text": [
      "100%|████████████████████████████████████████████████████████████████████████████████████| 5/5 [00:00<00:00, 15.77it/s]\n"
     ]
    },
    {
     "name": "stdout",
     "output_type": "stream",
     "text": [
      "Nyquist/SinglePeak\n"
     ]
    },
    {
     "name": "stderr",
     "output_type": "stream",
     "text": [
      "100%|██████████████████████████████████████████████████████████████████████████████████| 40/40 [00:02<00:00, 15.62it/s]\n"
     ]
    },
    {
     "name": "stdout",
     "output_type": "stream",
     "text": [
      "Nyquist/TwoPeaks\n"
     ]
    },
    {
     "name": "stderr",
     "output_type": "stream",
     "text": [
      "100%|██████████████████████████████████████████████████████████████████████████████████| 40/40 [00:02<00:00, 14.82it/s]\n"
     ]
    },
    {
     "name": "stdout",
     "output_type": "stream",
     "text": [
      "Missing: 5\n",
      "SinglePeak: 40\n",
      "TwoPeaks: 40\n"
     ]
    }
   ],
   "source": [
    "REBUILD_DATA = True\n",
    "\n",
    "class EISType():\n",
    "    #IMG_SIZE = 128\n",
    "    \n",
    "    MD = \"Nyquist/Missing\" # Determine the number of type and then give the directory of each type of image\n",
    "    SP = \"Nyquist/SinglePeak\"\n",
    "    TP = \"Nyquist/TwoPeaks\"\n",
    "    # PZ = \"Nyquist/PositiveZ\"\n",
    "    LABELS = {MD:0, SP:1, TP:2 }\n",
    "    training_data = []\n",
    "    mdcount = 0\n",
    "    #ttcount = 0\n",
    "    spcount = 0\n",
    "    tpcount = 0\n",
    "    #pzcount = 0\n",
    "    \n",
    "    def make_training_data(self):\n",
    "        for label in self.LABELS: #iterate the directory\n",
    "            print(label)\n",
    "            for f in tqdm(os.listdir(label)): # iterate all the image within the directory, f -> the file name\n",
    "                path = os.path.join(label, f) # get the full path to the image\n",
    "                img = cv2.imread(path, cv2.IMREAD_GRAYSCALE) # convert the iimage to gray scale (optional)\n",
    "                #img = cv2.resize(img, (self.IMG_SIZE*3, self.IMG_SIZE))\n",
    "                img = rescale(img, 0.15)\n",
    "                #if img == None:\n",
    "                    #pass\n",
    "                self.training_data.append([np.array(img), np.eye(3)[self.LABELS[label]]])                 \n",
    "\n",
    "                if label == self.MD:\n",
    "                    self.mdcount += 1\n",
    "                #elif label == self.TT:\n",
    "                    #self.ttcount += 1\n",
    "                elif label == self.SP:\n",
    "                    self.spcount += 1\n",
    "                elif label == self.TP:\n",
    "                    self.tpcount += 1\n",
    "                #elif label == self.PZ:\n",
    "                    #self.pzcount += 1    \n",
    "                \n",
    "        np.random.shuffle(self.training_data)\n",
    "        np.save(\"eis_training_data.npy\", self.training_data)\n",
    "        print(\"Missing:\", self.mdcount)\n",
    "        #print(\"TEST:\", self.ttcount)\n",
    "        print(\"SinglePeak:\", self.spcount)\n",
    "        print(\"TwoPeaks:\", self.tpcount)\n",
    "        #print(\"PositiveZ:\", self.pzcount)\n",
    "        \n",
    "if REBUILD_DATA:\n",
    "    Type = EISType()\n",
    "    Type.make_training_data()\n",
    "    \n"
   ]
  },
  {
   "cell_type": "markdown",
   "metadata": {},
   "source": [
    "*Load the data to check if all the images have been loaded into the program.*"
   ]
  },
  {
   "cell_type": "code",
   "execution_count": 128,
   "metadata": {},
   "outputs": [],
   "source": [
    "training_data = np.load(\"eis_training_data.npy\", allow_pickle = True)"
   ]
  },
  {
   "cell_type": "code",
   "execution_count": 129,
   "metadata": {},
   "outputs": [
    {
     "data": {
      "text/plain": [
       "(85, 2)"
      ]
     },
     "execution_count": 129,
     "metadata": {},
     "output_type": "execute_result"
    }
   ],
   "source": [
    "training_data.shape"
   ]
  },
  {
   "cell_type": "code",
   "execution_count": 130,
   "metadata": {
    "scrolled": true
   },
   "outputs": [
    {
     "data": {
      "image/png": "[encoded data removed]",
      "text/plain": [
       "<Figure size 432x288 with 1 Axes>"
      ]
     },
     "metadata": {
      "needs_background": "light"
     },
     "output_type": "display_data"
    }
   ],
   "source": [
    "plt.imshow(training_data[1][0])\n",
    "plt.show()"
   ]
  },
  {
   "cell_type": "code",
   "execution_count": 131,
   "metadata": {},
   "outputs": [
    {
     "data": {
      "text/plain": [
       "(134, 336)"
      ]
     },
     "execution_count": 131,
     "metadata": {},
     "output_type": "execute_result"
    }
   ],
   "source": [
    "training_data[1][0].shape"
   ]
  },
  {
   "cell_type": "code",
   "execution_count": 132,
   "metadata": {},
   "outputs": [
    {
     "data": {
      "text/plain": [
       "85"
      ]
     },
     "execution_count": 132,
     "metadata": {},
     "output_type": "execute_result"
    }
   ],
   "source": [
    "len(training_data)"
   ]
  },
  {
   "cell_type": "code",
   "execution_count": 154,
   "metadata": {},
   "outputs": [
    {
     "name": "stdout",
     "output_type": "stream",
     "text": [
      "[[0.99607843 0.99607843 0.99607843 ... 0.99607843 0.99607843 0.99607843]\n",
      " [0.99607843 0.99607843 0.99607843 ... 0.99607843 0.99607843 0.99607843]\n",
      " [0.99607843 0.99607843 0.99607843 ... 0.99607843 0.99607843 0.99607843]\n",
      " ...\n",
      " [0.99607843 0.99607843 0.99607843 ... 0.99607843 0.99607843 0.99607843]\n",
      " [0.99607843 0.99607843 0.99607843 ... 0.99607843 0.99607843 0.99607843]\n",
      " [0.99607843 0.99607843 0.99607843 ... 0.99607843 0.99607843 0.99607843]] [0. 0. 1.]\n",
      "[[0.99607843 0.99607843 0.99607843 ... 0.99607843 0.99607843 0.99607843]\n",
      " [0.99607843 0.99607843 0.99607843 ... 0.99607843 0.99607843 0.99607843]\n",
      " [0.99607843 0.99607843 0.99607843 ... 0.99607843 0.99607843 0.99607843]\n",
      " ...\n",
      " [0.99607843 0.99607843 0.99607843 ... 0.99607843 0.99607843 0.99607843]\n",
      " [0.99607843 0.99607843 0.99607843 ... 0.99607843 0.99607843 0.99607843]\n",
      " [0.99607843 0.99607843 0.99607843 ... 0.99607843 0.99607843 0.99607843]] [0. 0. 1.]\n",
      "[[0.99607843 0.99607843 0.99607843 ... 0.99607843 0.99607843 0.99607843]\n",
      " [0.99607843 0.99607843 0.99607843 ... 0.99607843 0.99607843 0.99607843]\n",
      " [0.99607843 0.99607843 0.99607843 ... 0.99607843 0.99607843 0.99607843]\n",
      " ...\n",
      " [0.99607843 0.99607843 0.99607843 ... 0.99607843 0.99607843 0.99607843]\n",
      " [0.99607843 0.99607843 0.99607843 ... 0.99607843 0.99607843 0.99607843]\n",
      " [0.99607843 0.99607843 0.99607843 ... 0.99607843 0.99607843 0.99607843]] [0. 0. 1.]\n",
      "[[0.99607843 0.99607843 0.99607843 ... 0.99607843 0.99607843 0.99607843]\n",
      " [0.99607843 0.99607843 0.99607843 ... 0.99607843 0.99607843 0.99607843]\n",
      " [0.99607843 0.99607843 0.99607843 ... 0.99607843 0.99607843 0.99607843]\n",
      " ...\n",
      " [0.99607843 0.99607843 0.99607843 ... 0.99607843 0.99607843 0.99607843]\n",
      " [0.99607843 0.99607843 0.99607843 ... 0.99607843 0.99607843 0.99607843]\n",
      " [0.99607843 0.99607843 0.99607843 ... 0.99607843 0.99607843 0.99607843]] [0. 0. 1.]\n",
      "[[0.99607843 0.99607843 0.99607843 ... 0.99607843 0.99607843 0.99607843]\n",
      " [0.99607843 0.99607843 0.99607843 ... 0.99607843 0.99607843 0.99607843]\n",
      " [0.99607843 0.99607843 0.99607843 ... 0.99607843 0.99607843 0.99607843]\n",
      " ...\n",
      " [0.99607843 0.99607843 0.99607843 ... 0.99607843 0.99607843 0.99607843]\n",
      " [0.99607843 0.99607843 0.99607843 ... 0.99607843 0.99607843 0.99607843]\n",
      " [0.99607843 0.99607843 0.99607843 ... 0.99607843 0.99607843 0.99607843]] [0. 1. 0.]\n",
      "[[0.99607843 0.99607843 0.99607843 ... 0.99607843 0.99607843 0.99607843]\n",
      " [0.99607843 0.99607843 0.99607843 ... 0.99607843 0.99607843 0.99607843]\n",
      " [0.99607843 0.99607843 0.99607843 ... 0.99607843 0.99607843 0.99607843]\n",
      " ...\n",
      " [0.99607843 0.99607843 0.99607843 ... 0.99607843 0.99607843 0.99607843]\n",
      " [0.99607843 0.99607843 0.99607843 ... 0.99607843 0.99607843 0.99607843]\n",
      " [0.99607843 0.99607843 0.99607843 ... 0.99607843 0.99607843 0.99607843]] [0. 0. 1.]\n",
      "[[0.99607843 0.99607843 0.99607843 ... 0.99607843 0.99607843 0.99607843]\n",
      " [0.99607843 0.99607843 0.99607843 ... 0.99607843 0.99607843 0.99607843]\n",
      " [0.99607843 0.99607843 0.99607843 ... 0.99607843 0.99607843 0.99607843]\n",
      " ...\n",
      " [0.99607843 0.99607843 0.99607843 ... 0.99607843 0.99607843 0.99607843]\n",
      " [0.99607843 0.99607843 0.99607843 ... 0.99607843 0.99607843 0.99607843]\n",
      " [0.99607843 0.99607843 0.99607843 ... 0.99607843 0.99607843 0.99607843]] [0. 1. 0.]\n",
      "[[0.99607843 0.99607843 0.99607843 ... 0.99607843 0.99607843 0.99607843]\n",
      " [0.99607843 0.99607843 0.99607843 ... 0.99607843 0.99607843 0.99607843]\n",
      " [0.99607843 0.99607843 0.99607843 ... 0.99607843 0.99607843 0.99607843]\n",
      " ...\n",
      " [0.99607843 0.99607843 0.99607843 ... 0.99607843 0.99607843 0.99607843]\n",
      " [0.99607843 0.99607843 0.99607843 ... 0.99607843 0.99607843 0.99607843]\n",
      " [0.99607843 0.99607843 0.99607843 ... 0.99607843 0.99607843 0.99607843]] [0. 0. 1.]\n",
      "[[0.99607843 0.99607843 0.99607843 ... 0.99607843 0.99607843 0.99607843]\n",
      " [0.99607843 0.99607843 0.99607843 ... 0.99607843 0.99607843 0.99607843]\n",
      " [0.99607843 0.99607843 0.99607843 ... 0.99607843 0.99607843 0.99607843]\n",
      " ...\n",
      " [0.99607843 0.99607843 0.99607843 ... 0.99607843 0.99607843 0.99607843]\n",
      " [0.99607843 0.99607843 0.99607843 ... 0.99607843 0.99607843 0.99607843]\n",
      " [0.99607843 0.99607843 0.99607843 ... 0.99607843 0.99607843 0.99607843]] [0. 1. 0.]\n",
      "[[0.99607843 0.99607843 0.99607843 ... 0.99607843 0.99607843 0.99607843]\n",
      " [0.99607843 0.99607843 0.99607843 ... 0.99607843 0.99607843 0.99607843]\n",
      " [0.99607843 0.99607843 0.99607843 ... 0.99607843 0.99607843 0.99607843]\n",
      " ...\n",
      " [0.99607843 0.99607843 0.99607843 ... 0.99607843 0.99607843 0.99607843]\n",
      " [0.99607843 0.99607843 0.99607843 ... 0.99607843 0.99607843 0.99607843]\n",
      " [0.99607843 0.99607843 0.99607843 ... 0.99607843 0.99607843 0.99607843]] [0. 0. 1.]\n"
     ]
    }
   ],
   "source": [
    "for i in range(10):\n",
    "    print(training_data[i][0], training_data[i][1])"
   ]
  },
  {
   "cell_type": "markdown",
   "metadata": {},
   "source": [
    "### CNN Model"
   ]
  },
  {
   "cell_type": "code",
   "execution_count": 159,
   "metadata": {},
   "outputs": [],
   "source": [
    "class Net(nn.Module):\n",
    "    \n",
    "    def __init__(self, input_size, hidden_size, kernel_size, output_size):\n",
    "        super(Net, self).__init__()\n",
    "        self.conv1 = nn.Conv2d(input_size, hidden_size, kernel_size) \n",
    "        self.conv2 = nn.Conv2d(hidden_size, hidden_size*2, kernel_size)\n",
    "        self.conv3 = nn.Conv2d(hidden_size*2, hidden_size*4, kernel_size)\n",
    "        self.conv4 = nn.Conv2d(hidden_size*4, hidden_size*8, kernel_size)\n",
    "        \n",
    "        self.fc1 = nn.Linear(7296, 64) \n",
    "        self.fc2 = nn.Linear(64, output_size)\n",
    "    \n",
    "    def forward(self, x):\n",
    "        x = F.max_pool2d(F.relu(self.conv1(x)), (2,2))\n",
    "        x = F.max_pool2d(F.relu(self.conv2(x)), (2,2))\n",
    "        x = F.max_pool2d(F.relu(self.conv3(x)), (2,2))\n",
    "        x = F.max_pool2d(F.relu(self.conv4(x)), (2,2))\n",
    "        \n",
    "        xF = x.view(-1, 64 * 19 * 6 ) # flatten\n",
    "        output = F.relu(self.fc1(xF)) # put into the first fully connected layer\n",
    "        output = self.fc2(output)\n",
    "        \n",
    "        return F.softmax(output, dim=1)"
   ]
  },
  {
   "cell_type": "markdown",
   "metadata": {},
   "source": [
    "<font color='red'>**Try to use sigmoid function rather than hte ReLU at the last linear layer.** </font>"
   ]
  },
  {
   "cell_type": "code",
   "execution_count": 160,
   "metadata": {
    "scrolled": true
   },
   "outputs": [
    {
     "name": "stdout",
     "output_type": "stream",
     "text": [
      "Net(\n",
      "  (conv1): Conv2d(1, 8, kernel_size=(3, 3), stride=(1, 1))\n",
      "  (conv2): Conv2d(8, 16, kernel_size=(3, 3), stride=(1, 1))\n",
      "  (conv3): Conv2d(16, 32, kernel_size=(3, 3), stride=(1, 1))\n",
      "  (conv4): Conv2d(32, 64, kernel_size=(3, 3), stride=(1, 1))\n",
      "  (fc1): Linear(in_features=7296, out_features=64, bias=True)\n",
      "  (fc2): Linear(in_features=64, out_features=3, bias=True)\n",
      ")\n"
     ]
    }
   ],
   "source": [
    "net = Net(1, 8, 3, 3)\n",
    "print(net)"
   ]
  },
  {
   "cell_type": "markdown",
   "metadata": {},
   "source": [
    "### Separate the training data and testing data"
   ]
  },
  {
   "cell_type": "code",
   "execution_count": 161,
   "metadata": {},
   "outputs": [
    {
     "name": "stdout",
     "output_type": "stream",
     "text": [
      "17\n"
     ]
    }
   ],
   "source": [
    "X = torch.Tensor([i[0] for i in training_data]).view(-1, 134, 336)\n",
    "#X = X/255.0\n",
    "y = torch.Tensor([i[1] for i in training_data])\n",
    "\n",
    "VAL_PCT = 0.2 # 20% for Testing\n",
    "val_size = int(len(X)*VAL_PCT)\n",
    "print(val_size)"
   ]
  },
  {
   "cell_type": "code",
   "execution_count": 162,
   "metadata": {},
   "outputs": [
    {
     "data": {
      "text/plain": [
       "tensor([[0.9961, 0.9961, 0.9961,  ..., 0.9961, 0.9961, 0.9961],\n",
       "        [0.9961, 0.9961, 0.9961,  ..., 0.9961, 0.9961, 0.9961],\n",
       "        [0.9961, 0.9961, 0.9961,  ..., 0.9961, 0.9961, 0.9961],\n",
       "        ...,\n",
       "        [0.9961, 0.9961, 0.9961,  ..., 0.9961, 0.9961, 0.9961],\n",
       "        [0.9961, 0.9961, 0.9961,  ..., 0.9961, 0.9961, 0.9961],\n",
       "        [0.9961, 0.9961, 0.9961,  ..., 0.9961, 0.9961, 0.9961]])"
      ]
     },
     "execution_count": 162,
     "metadata": {},
     "output_type": "execute_result"
    }
   ],
   "source": [
    "X[0]"
   ]
  },
  {
   "cell_type": "code",
   "execution_count": 163,
   "metadata": {},
   "outputs": [
    {
     "data": {
      "text/plain": [
       "tensor([0., 0., 1.])"
      ]
     },
     "execution_count": 163,
     "metadata": {},
     "output_type": "execute_result"
    }
   ],
   "source": [
    "y[0]"
   ]
  },
  {
   "cell_type": "code",
   "execution_count": 164,
   "metadata": {},
   "outputs": [
    {
     "data": {
      "text/plain": [
       "tensor([[0.3482, 0.3336, 0.3182],\n",
       "        [0.3481, 0.3336, 0.3183],\n",
       "        [0.3481, 0.3336, 0.3182],\n",
       "        [0.3481, 0.3337, 0.3182],\n",
       "        [0.3482, 0.3336, 0.3183],\n",
       "        [0.3481, 0.3336, 0.3183],\n",
       "        [0.3481, 0.3335, 0.3184],\n",
       "        [0.3481, 0.3335, 0.3183],\n",
       "        [0.3481, 0.3335, 0.3184],\n",
       "        [0.3482, 0.3335, 0.3183]], grad_fn=<SoftmaxBackward>)"
      ]
     },
     "execution_count": 164,
     "metadata": {},
     "output_type": "execute_result"
    }
   ],
   "source": [
    "z = net(batch_X)\n",
    "z"
   ]
  },
  {
   "cell_type": "code",
   "execution_count": 165,
   "metadata": {},
   "outputs": [
    {
     "name": "stdout",
     "output_type": "stream",
     "text": [
      "Training Sample: 68\n",
      "Testing Sample: 17\n"
     ]
    }
   ],
   "source": [
    "train_X = X[:-val_size]\n",
    "train_y = y[:-val_size]\n",
    "\n",
    "test_X = X[-val_size:]\n",
    "test_y = y[-val_size:]\n",
    "\n",
    "print(\"Training Sample:\", len(train_X))\n",
    "print(\"Testing Sample:\", len(test_X))"
   ]
  },
  {
   "cell_type": "markdown",
   "metadata": {},
   "source": [
    "### Import the Optimizing and Loss Function"
   ]
  },
  {
   "cell_type": "code",
   "execution_count": 166,
   "metadata": {},
   "outputs": [],
   "source": [
    "optimizer = optim.Adam(net.parameters(), lr = 0.001)\n",
    "loss_function = nn.MSELoss()"
   ]
  },
  {
   "cell_type": "code",
   "execution_count": 167,
   "metadata": {
    "scrolled": true
   },
   "outputs": [
    {
     "name": "stderr",
     "output_type": "stream",
     "text": [
      "100%|████████████████████████████████████████████████████████████████████████████████████| 7/7 [00:00<00:00,  7.39it/s]\n",
      "100%|████████████████████████████████████████████████████████████████████████████████████| 7/7 [00:00<00:00,  7.70it/s]\n",
      "100%|████████████████████████████████████████████████████████████████████████████████████| 7/7 [00:00<00:00,  7.63it/s]\n"
     ]
    },
    {
     "name": "stdout",
     "output_type": "stream",
     "text": [
      "tensor(0.1725, grad_fn=<MseLossBackward>)\n"
     ]
    }
   ],
   "source": [
    "BATCH_SIZE = 10\n",
    "EPOCHS = 3\n",
    "\n",
    "for epoch in range(EPOCHS):\n",
    "    for i in tqdm(range(0, len(train_X), BATCH_SIZE)):\n",
    "        batch_X = train_X[i:i+BATCH_SIZE].view(-1, 1, 134, 336)\n",
    "        batch_y = train_y[i:i+BATCH_SIZE]\n",
    "        \n",
    "        net.zero_grad()\n",
    "        outputs = net(batch_X)\n",
    "        loss = loss_function(outputs, batch_y)\n",
    "        loss.backward()\n",
    "        optimizer.step()\n",
    "        \n",
    "print(loss)"
   ]
  },
  {
   "cell_type": "code",
   "execution_count": 194,
   "metadata": {
    "scrolled": true
   },
   "outputs": [
    {
     "name": "stderr",
     "output_type": "stream",
     "text": [
      "100%|██████████████████████████████████████████████████████████████████████████████████| 17/17 [00:00<00:00, 96.89it/s]\n"
     ]
    },
    {
     "name": "stdout",
     "output_type": "stream",
     "text": [
      "Accuracy: 0.941\n"
     ]
    }
   ],
   "source": [
    "correct = 0\n",
    "total = 0\n",
    "with torch.no_grad():\n",
    "    for i in tqdm(range(len(test_X))):\n",
    "        real_class = torch.argmax(test_y[i])\n",
    "        net_out = net(test_X[i].view(-1, 1, 134, 336))[0]\n",
    "        predicted_class = torch.argmax(net_out)\n",
    "        if predicted_class == real_class:\n",
    "            correct += 1\n",
    "            \n",
    "        total += 1\n",
    "        \n",
    "print(\"Accuracy:\", round(correct/total,3))"
   ]
  },
  {
   "cell_type": "code",
   "execution_count": null,
   "metadata": {},
   "outputs": [],
   "source": []
  },
  {
   "cell_type": "code",
   "execution_count": null,
   "metadata": {},
   "outputs": [],
   "source": []
  },
  {
   "cell_type": "code",
   "execution_count": null,
   "metadata": {},
   "outputs": [],
   "source": []
  },
  {
   "cell_type": "code",
   "execution_count": null,
   "metadata": {},
   "outputs": [],
   "source": []
  },
  {
   "cell_type": "code",
   "execution_count": null,
   "metadata": {},
   "outputs": [],
   "source": []
  },
  {
   "cell_type": "code",
   "execution_count": null,
   "metadata": {},
   "outputs": [],
   "source": []
  },
  {
   "cell_type": "code",
   "execution_count": 201,
   "metadata": {},
   "outputs": [
    {
     "name": "stdout",
     "output_type": "stream",
     "text": [
      "tensor([0.0992, 0.4500, 0.4508], grad_fn=<SelectBackward>) tensor(2) tensor(2)\n",
      "tensor([0.1013, 0.4505, 0.4482], grad_fn=<SelectBackward>) tensor(1) tensor(1)\n",
      "tensor([0.0985, 0.4504, 0.4511], grad_fn=<SelectBackward>) tensor(2) tensor(2)\n",
      "tensor([0.1000, 0.4510, 0.4490], grad_fn=<SelectBackward>) tensor(1) tensor(1)\n",
      "tensor([0.1011, 0.4508, 0.4482], grad_fn=<SelectBackward>) tensor(1) tensor(0)\n",
      "tensor([0.0987, 0.4501, 0.4512], grad_fn=<SelectBackward>) tensor(2) tensor(2)\n",
      "tensor([0.0997, 0.4498, 0.4505], grad_fn=<SelectBackward>) tensor(2) tensor(2)\n",
      "tensor([0.0988, 0.4503, 0.4510], grad_fn=<SelectBackward>) tensor(2) tensor(2)\n",
      "tensor([0.1015, 0.4503, 0.4482], grad_fn=<SelectBackward>) tensor(1) tensor(1)\n",
      "tensor([0.0987, 0.4501, 0.4512], grad_fn=<SelectBackward>) tensor(2) tensor(2)\n",
      "tensor([0.0990, 0.4500, 0.4510], grad_fn=<SelectBackward>) tensor(2) tensor(2)\n",
      "tensor([0.1012, 0.4506, 0.4481], grad_fn=<SelectBackward>) tensor(1) tensor(1)\n",
      "tensor([0.0996, 0.4512, 0.4492], grad_fn=<SelectBackward>) tensor(1) tensor(1)\n",
      "tensor([0.0999, 0.4498, 0.4503], grad_fn=<SelectBackward>) tensor(2) tensor(2)\n",
      "tensor([0.0984, 0.4504, 0.4512], grad_fn=<SelectBackward>) tensor(2) tensor(2)\n",
      "tensor([0.1006, 0.4509, 0.4485], grad_fn=<SelectBackward>) tensor(1) tensor(1)\n",
      "tensor([0.0996, 0.4513, 0.4491], grad_fn=<SelectBackward>) tensor(1) tensor(1)\n"
     ]
    }
   ],
   "source": [
    "for i in range(len(test_X)):\n",
    "    real_class = torch.argmax(test_y[i])\n",
    "    net_out = net(test_X[i].view(-1, 1, 134, 336))[0]\n",
    "    pre = torch.argmax(net_out)\n",
    "    print(net_out, pre, real_class)"
   ]
  },
  {
   "cell_type": "code",
   "execution_count": null,
   "metadata": {},
   "outputs": [],
   "source": []
  },
  {
   "cell_type": "code",
   "execution_count": null,
   "metadata": {},
   "outputs": [],
   "source": []
  },
  {
   "cell_type": "code",
   "execution_count": null,
   "metadata": {},
   "outputs": [],
   "source": []
  },
  {
   "cell_type": "code",
   "execution_count": null,
   "metadata": {},
   "outputs": [],
   "source": [
    "num_iterations = 50\n",
    "loss = 0\n",
    "\n",
    "for j in range(num_iterations):\n",
    "    loss = 0\n",
    "    for batch_id, data in enumerate(train_loader):\n",
    "        # calculate the loss and take a gradient step\n",
    "        loss += svi.step(data[0].view(-1,IMAGE_SIZE*IMAGE_SIZE), data[1])\n",
    "    normalizer_train = len(train_loader.dataset)\n",
    "    total_epoch_loss_train = loss / normalizer_train\n",
    "    \n",
    "    print(\"Epoch \", j, \" Loss \", total_epoch_loss_train)"
   ]
  },
  {
   "cell_type": "code",
   "execution_count": null,
   "metadata": {},
   "outputs": [],
   "source": []
  },
  {
   "cell_type": "code",
   "execution_count": null,
   "metadata": {},
   "outputs": [],
   "source": []
  },
  {
   "cell_type": "code",
   "execution_count": 32,
   "metadata": {},
   "outputs": [
    {
     "data": {
      "text/plain": [
       "(891, 2241)"
      ]
     },
     "execution_count": 32,
     "metadata": {},
     "output_type": "execute_result"
    }
   ],
   "source": [
    "training_data[1][0].shape"
   ]
  },
  {
   "cell_type": "code",
   "execution_count": null,
   "metadata": {},
   "outputs": [],
   "source": []
  },
  {
   "cell_type": "code",
   "execution_count": null,
   "metadata": {},
   "outputs": [],
   "source": []
  },
  {
   "cell_type": "code",
   "execution_count": null,
   "metadata": {},
   "outputs": [],
   "source": []
  },
  {
   "cell_type": "code",
   "execution_count": null,
   "metadata": {},
   "outputs": [],
   "source": []
  },
  {
   "cell_type": "code",
   "execution_count": null,
   "metadata": {},
   "outputs": [],
   "source": []
  },
  {
   "cell_type": "code",
   "execution_count": null,
   "metadata": {},
   "outputs": [],
   "source": []
  },
  {
   "cell_type": "code",
   "execution_count": null,
   "metadata": {},
   "outputs": [],
   "source": []
  },
  {
   "cell_type": "code",
   "execution_count": null,
   "metadata": {},
   "outputs": [],
   "source": [
    "MD = DataLoader()"
   ]
  },
  {
   "cell_type": "code",
   "execution_count": null,
   "metadata": {},
   "outputs": [],
   "source": [
    "trans = transforms.Compose([transforms.ToTensor()])"
   ]
  },
  {
   "cell_type": "code",
   "execution_count": null,
   "metadata": {},
   "outputs": [],
   "source": []
  }
 ],
 "metadata": {
  "kernelspec": {
   "display_name": "Python 3",
   "language": "python",
   "name": "python3"
  },
  "language_info": {
   "codemirror_mode": {
    "name": "ipython",
    "version": 3
   },
   "file_extension": ".py",
   "mimetype": "text/x-python",
   "name": "python",
   "nbconvert_exporter": "python",
   "pygments_lexer": "ipython3",
   "version": "3.7.4"
  }
 },
 "nbformat": 4,
 "nbformat_minor": 2
}
