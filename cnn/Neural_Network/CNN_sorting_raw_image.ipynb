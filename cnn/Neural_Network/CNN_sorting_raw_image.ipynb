{
 "cells": [
  {
   "cell_type": "code",
   "execution_count": 1,
   "metadata": {
    "collapsed": true
   },
   "outputs": [],
   "source": [
    "import os\n",
    "import cv2\n",
    "from tqdm import tqdm\n",
    "\n",
    "import numpy as np\n",
    "import matplotlib.pyplot as plt\n",
    "\n",
    "%matplotlib inline\n",
    "\n",
    "import torch\n",
    "import torch.nn as nn\n",
    "import torch.nn.functional as F\n",
    "import torch.optim as optim"
   ]
  },
  {
   "cell_type": "code",
   "execution_count": 92,
   "metadata": {
    "collapsed": true
   },
   "outputs": [],
   "source": [
    "class EISDataImport():\n",
    "    \"\"\"Data Import and Pre-Processing\"\"\"\n",
    "\n",
    "    def DataImporter_Training(self, k, path_List_training,\n",
    "                              image_width, image_height):\n",
    "        \"\"\"\n",
    "        Import the training image file (.png) into the model.\n",
    "        Parameters\n",
    "        ----------\n",
    "        k: The total number of the type.\n",
    "           (Setting the maximum value equal 7 by defult)\n",
    "        path_list_training: A list containing the path of training folder.\n",
    "                            One index for one path only.\n",
    "                            Last index is the nparray file name (XXX.npy).\n",
    "        image_width: The target width after resize\n",
    "        image_height: The target height after resize\n",
    "        \"\"\"\n",
    "        path_list = path_List_training\n",
    "        countImage_Training = [0, 0, 0, 0, 0, 0, 0]\n",
    "        training_data = []\n",
    "        # Iterate the directory\n",
    "        print(len(path_list))\n",
    "        for label in range(len(path_list)):\n",
    "            print(path_list[label])\n",
    "            # Iterate all the image within the directory, f -> the file name\n",
    "            for f in tqdm(os.listdir(path_list[label])):\n",
    "                # Get the full path to the image\n",
    "                path = os.path.join(path_list[label], f)\n",
    "                if \"png\" in path:\n",
    "                    # Read images in the given path and turn into nparray.\n",
    "                    # Convert the iimage to gray scale (optional)\n",
    "                    img = cv2.imread(path, cv2.IMREAD_GRAYSCALE)\n",
    "                    img = cv2.resize(img, (image_width, image_height))\n",
    "                    # Label the image with np.eye() matrix.\n",
    "                    training_data.append([path, np.array(img),\n",
    "                                          np.eye(k-1)[label]])\n",
    "                    for i in range(k):\n",
    "                        if label == i:\n",
    "                            countImage_Training[i] += 1\n",
    "\n",
    "        np.random.shuffle(training_data)\n",
    "        np.save(path_list[-1], training_data)\n",
    "        for i in range(len(path_list)-1):\n",
    "            print(path_List_training[i], \":\", countImage_Training[i])\n",
    "        return training_data\n",
    "\n",
    "    def DataImporter_Predict(self, k, path_List_predict,\n",
    "                             image_width, image_height):\n",
    "        \"\"\"\n",
    "        Import the testing image file (.png) into the model.\n",
    "        Parameters\n",
    "        ----------\n",
    "        k: The total number of path(folder) \n",
    "           (Setting the maximum value equal 10 by defult)\n",
    "        path_list_training: A list containing the path of training folder.\n",
    "                            One index for one path only.\n",
    "                            Last index is the nparray file name (XXX.npy).\n",
    "        image_width: The target width after resize\n",
    "        image_height: The target height after resize\n",
    "        \"\"\"\n",
    "        path_list = path_List_predict\n",
    "        countImage_Predict = [0, 0, 0, 0, 0, 0, 0, 0, 0, 0]\n",
    "        #training_data = []\n",
    "        # Iterate the directory\n",
    "        for label in range(len(path_list)):\n",
    "            # Iterate all the image within the directory, f -> the file name\n",
    "            for f in tqdm(os.listdir(path_list[label])):\n",
    "                # Get the full path to the image\n",
    "                path = os.path.join(path_list[label], f)\n",
    "                if \"png\" in path:\n",
    "                    # Read images in the given path and turn into nparray.\n",
    "                    # Convert the iimage to gray scale (optional)\n",
    "                    img = cv2.imread(path, cv2.IMREAD_GRAYSCALE)\n",
    "                    img = cv2.resize(img, (image_width, image_height))\n",
    "                    training_data.append([path, np.array(img)])\n",
    "                    # Count the number of image\n",
    "                    for i in range(k):\n",
    "                        if label == i:\n",
    "                            countImage_Predict[i] += 1\n",
    "\n",
    "        np.random.shuffle(training_data)\n",
    "        np.save(path_list[-1], training_data)\n",
    "        for i in range(len(path_list)):\n",
    "            print(path_List_predict[i], \":\", countImage_Predict[i])\n"
   ]
  },
  {
   "cell_type": "code",
   "execution_count": 70,
   "metadata": {},
   "outputs": [
    {
     "data": {
      "text/plain": [
       "array([1., 0.])"
      ]
     },
     "execution_count": 70,
     "metadata": {},
     "output_type": "execute_result"
    }
   ],
   "source": [
    "np.eye(2)[0]"
   ]
  },
  {
   "cell_type": "code",
   "execution_count": 118,
   "metadata": {
    "collapsed": true
   },
   "outputs": [],
   "source": [
    "def Build_Data(Training, k, path_list, image_width, image_height):\n",
    "    '''This will allow us to use EISData() to preprocess train/test data.\n",
    "    Parameters\n",
    "    ----------\n",
    "    Training = True (Class.DataImporter_Training) will be used/ False (vice versa)\n",
    "    k = the total number of path\n",
    "    path_list = [string of folder path]\n",
    "    image_width/height for rescaling\n",
    "    \n",
    "    Returns\n",
    "    --------\n",
    "    training data [path,numpy array for images, label(if Training=True)]\n",
    "    '''\n",
    "    Class = EISData()\n",
    "    if Training is True:\n",
    "        Class.DataImporter_Training(k, path_list, image_width, image_height)\n",
    "    else :\n",
    "        Class.DataImporter_Predict(k, path_list, image_width, image_height)"
   ]
  },
  {
   "cell_type": "code",
   "execution_count": 94,
   "metadata": {},
   "outputs": [
    {
     "name": "stderr",
     "output_type": "stream",
     "text": [
      "  0%|          | 5/1285 [00:00<00:28, 44.86it/s]"
     ]
    },
    {
     "name": "stdout",
     "output_type": "stream",
     "text": [
      "2\n",
      "/Users/mkim91/Desktop/Direct/Eisy_as_py/eisy/cnn/Neural_Network/Noisy\n"
     ]
    },
    {
     "name": "stderr",
     "output_type": "stream",
     "text": [
      "100%|██████████| 1285/1285 [00:18<00:00, 69.71it/s]\n"
     ]
    },
    {
     "name": "stdout",
     "output_type": "stream",
     "text": [
      "/Users/mkim91/Desktop/Direct/Eisy_as_py/eisy/cnn/Neural_Network/Noisy : 1285\n"
     ]
    }
   ],
   "source": [
    "\n",
    "NS = \"/Users/mkim91/Desktop/Direct/Eisy_as_py/eisy/cnn/Neural_Network/Noisy\" # Determine the number of type and then give the directory of each type of image\n",
    "SH = \"/Users/mkim91/Desktop/Direct/Eisy_as_py/eisy/cnn/Neural_Network/SingleHump\"\n",
    "#TH = \"/Neural_Network/TwoHumps\"\n",
    "#TL = \"/Neural_Network/Tail\"\n",
    "LABELS = {NS:0, SH:1}\n",
    "Training = True\n",
    "\n",
    "#print(os.getcwd())\n",
    "path = [NS, SH]\n",
    "print(len(path))\n",
    "k = 2 #two inputs\n",
    "Build_Data=Build_Data(Training, k, path, 800, 536)"
   ]
  },
  {
   "cell_type": "code",
   "execution_count": 87,
   "metadata": {
    "collapsed": true
   },
   "outputs": [],
   "source": [
    "def load_training_data(np_ndarray_file):\n",
    "    \"\"\"\n",
    "    Load the data from the .npy file to check if all the images\n",
    "    have been in the program.\n",
    "\n",
    "    Parameter\n",
    "    ----------\n",
    "    np_ndarray_file: The XXX.npy file name.\n",
    "                     Should be identical to the last index in path list\n",
    "\n",
    "    Returns\n",
    "    ----------\n",
    "    training_data:  the dataset expressed in numpy array form.\n",
    "                    type -> numpy.ndarray\n",
    "\n",
    "    \"\"\"\n",
    "    training_data = np.load(np_ndarray_file, allow_pickle=True)\n",
    "    return training_data"
   ]
  },
  {
   "cell_type": "code",
   "execution_count": 95,
   "metadata": {},
   "outputs": [
    {
     "name": "stdout",
     "output_type": "stream",
     "text": [
      "[['/Users/mkim91/Desktop/Direct/Eisy_as_py/eisy/cnn/Neural_Network/Noisy/200315-0240_sim_spread-True.png'\n",
      "  array([[255, 255, 255, ..., 255, 255, 255],\n",
      "       [255, 255, 255, ..., 255, 255, 255],\n",
      "       [255, 255, 255, ..., 255, 255, 255],\n",
      "       ...,\n",
      "       [255, 255, 255, ..., 255, 255, 255],\n",
      "       [255, 255, 255, ..., 255, 255, 255],\n",
      "       [255, 255, 255, ..., 255, 255, 255]], dtype=uint8)\n",
      "  array([1., 0.])]\n",
      " ['/Users/mkim91/Desktop/Direct/Eisy_as_py/eisy/cnn/Neural_Network/Noisy/200315-0427_sim_spread-True.png'\n",
      "  array([[255, 255, 255, ..., 255, 255, 255],\n",
      "       [255, 255, 255, ..., 255, 255, 255],\n",
      "       [255, 255, 255, ..., 255, 255, 255],\n",
      "       ...,\n",
      "       [255, 255, 255, ..., 255, 255, 255],\n",
      "       [255, 255, 255, ..., 255, 255, 255],\n",
      "       [255, 255, 255, ..., 255, 255, 255]], dtype=uint8)\n",
      "  array([1., 0.])]\n",
      " ['/Users/mkim91/Desktop/Direct/Eisy_as_py/eisy/cnn/Neural_Network/Noisy/200315-0007_sim_one-True.png'\n",
      "  array([[255, 255, 255, ..., 255, 255, 255],\n",
      "       [255, 255, 255, ..., 255, 255, 255],\n",
      "       [255, 255, 255, ..., 255, 255, 255],\n",
      "       ...,\n",
      "       [255, 255, 255, ..., 255, 255, 255],\n",
      "       [255, 255, 255, ..., 255, 255, 255],\n",
      "       [255, 255, 255, ..., 255, 255, 255]], dtype=uint8)\n",
      "  array([1., 0.])]\n",
      " ...\n",
      " ['/Users/mkim91/Desktop/Direct/Eisy_as_py/eisy/cnn/Neural_Network/Noisy/200315-0755_sim_spread-True.png'\n",
      "  array([[255, 255, 255, ..., 255, 255, 255],\n",
      "       [255, 255, 255, ..., 255, 255, 255],\n",
      "       [255, 255, 255, ..., 255, 255, 255],\n",
      "       ...,\n",
      "       [255, 255, 255, ..., 255, 255, 255],\n",
      "       [255, 255, 255, ..., 255, 255, 255],\n",
      "       [255, 255, 255, ..., 255, 255, 255]], dtype=uint8)\n",
      "  array([1., 0.])]\n",
      " ['/Users/mkim91/Desktop/Direct/Eisy_as_py/eisy/cnn/Neural_Network/Noisy/200315-0011_randles_simp-True.png'\n",
      "  array([[255, 255, 255, ..., 255, 255, 255],\n",
      "       [255, 255, 255, ..., 255, 255, 255],\n",
      "       [255, 255, 255, ..., 255, 255, 255],\n",
      "       ...,\n",
      "       [255, 255, 255, ..., 255, 255, 255],\n",
      "       [255, 255, 255, ..., 255, 255, 255],\n",
      "       [255, 255, 255, ..., 255, 255, 255]], dtype=uint8)\n",
      "  array([1., 0.])]\n",
      " ['/Users/mkim91/Desktop/Direct/Eisy_as_py/eisy/cnn/Neural_Network/Noisy/200315-0345_sim_spread-True.png'\n",
      "  array([[255, 255, 255, ..., 255, 255, 255],\n",
      "       [255, 255, 255, ..., 255, 255, 255],\n",
      "       [255, 255, 255, ..., 255, 255, 255],\n",
      "       ...,\n",
      "       [255, 255, 255, ..., 255, 255, 255],\n",
      "       [255, 255, 255, ..., 255, 255, 255],\n",
      "       [255, 255, 255, ..., 255, 255, 255]], dtype=uint8)\n",
      "  array([1., 0.])]]\n",
      "14\n"
     ]
    },
    {
     "data": {
      "text/plain": [
       "array(['/Users/mkim91/Desktop/Direct/Eisy_as_py/eisy/cnn/Neural_Network/Noisy/200315-0007_sim_one-True.png',\n",
       "       array([[255, 255, 255, ..., 255, 255, 255],\n",
       "       [255, 255, 255, ..., 255, 255, 255],\n",
       "       [255, 255, 255, ..., 255, 255, 255],\n",
       "       ...,\n",
       "       [255, 255, 255, ..., 255, 255, 255],\n",
       "       [255, 255, 255, ..., 255, 255, 255],\n",
       "       [255, 255, 255, ..., 255, 255, 255]], dtype=uint8),\n",
       "       array([1., 0.])], dtype=object)"
      ]
     },
     "execution_count": 95,
     "metadata": {},
     "output_type": "execute_result"
    }
   ],
   "source": [
    "training_data=(load_training_data('SingleHump.npy'))\n",
    "print(training_data)\n",
    "print(len('SingleHump.npy'))\n",
    "training_data[2]"
   ]
  },
  {
   "cell_type": "code",
   "execution_count": 96,
   "metadata": {},
   "outputs": [],
   "source": [
    "def data_information(training_data):\n",
    "    \"\"\"\n",
    "    Check the size of image and dataset.\n",
    "\n",
    "    Parameters\n",
    "    ----------\n",
    "    training_data: the data loading from \"eis_training_data.npy\"\n",
    "\n",
    "    \"\"\"\n",
    "    print(\"Type of training_data:\", type(training_data))\n",
    "    print(\"Size of training_data:\", len(training_data))\n",
    "    print(\"Size of image(after rescale):\", training_data[0][1].shape[1],\n",
    "          \"x\", training_data[0][1].shape[0])"
   ]
  },
  {
   "cell_type": "code",
   "execution_count": 97,
   "metadata": {},
   "outputs": [
    {
     "name": "stdout",
     "output_type": "stream",
     "text": [
      "Type of training_data: <class 'numpy.ndarray'>\n",
      "Size of training_data: 1285\n",
      "Size of image(after rescale): 800 x 536\n",
      "(1285, 3)\n",
      "['/Users/mkim91/Desktop/Direct/Eisy_as_py/eisy/cnn/Neural_Network/Noisy/200315-0240_sim_spread-True.png'\n",
      " '/Users/mkim91/Desktop/Direct/Eisy_as_py/eisy/cnn/Neural_Network/Noisy/200315-0427_sim_spread-True.png'\n",
      " '/Users/mkim91/Desktop/Direct/Eisy_as_py/eisy/cnn/Neural_Network/Noisy/200315-0007_sim_one-True.png'\n",
      " ...\n",
      " '/Users/mkim91/Desktop/Direct/Eisy_as_py/eisy/cnn/Neural_Network/Noisy/200315-0755_sim_spread-True.png'\n",
      " '/Users/mkim91/Desktop/Direct/Eisy_as_py/eisy/cnn/Neural_Network/Noisy/200315-0011_randles_simp-True.png'\n",
      " '/Users/mkim91/Desktop/Direct/Eisy_as_py/eisy/cnn/Neural_Network/Noisy/200315-0345_sim_spread-True.png']\n"
     ]
    }
   ],
   "source": [
    "data_information(training_data)\n",
    "print(training_data.shape)\n",
    "print(training_data[:,0])"
   ]
  },
  {
   "cell_type": "code",
   "execution_count": 34,
   "metadata": {
    "collapsed": true
   },
   "outputs": [],
   "source": [
    "def ploting_data(training_data, k):\n",
    "    \"\"\"\n",
    "    Show the assigned image with matplotlib package.\n",
    "\n",
    "    Parameters\n",
    "    ----------\n",
    "    training_data: the data loading from \"eis_training_data.npy\"\n",
    "    k:  assign one image in training_data to show.\n",
    "        k should fall in the range of dataset size.\n",
    "        Rang: 0-size of training data\n",
    "\n",
    "    \"\"\"\n",
    "    print(training_data[k][0])\n",
    "    plt.imshow(training_data[k][1])\n",
    "    plt.show"
   ]
  },
  {
   "cell_type": "code",
   "execution_count": 98,
   "metadata": {},
   "outputs": [
    {
     "name": "stdout",
     "output_type": "stream",
     "text": [
      "/Users/mkim91/Desktop/Direct/Eisy_as_py/eisy/cnn/Neural_Network/Noisy/200315-0016_sim_spread-True.png\n"
     ]
    },
    {
     "data": {
      "image/png": "[encoded data removed]",
      "text/plain": [
       "<Figure size 432x288 with 1 Axes>"
      ]
     },
     "metadata": {},
     "output_type": "display_data"
    }
   ],
   "source": [
    "ploting_data(training_data, 200)"
   ]
  },
  {
   "cell_type": "code",
   "execution_count": 99,
   "metadata": {},
   "outputs": [],
   "source": [
    "class Net(nn.Module):\n",
    "    \"\"\"Convolutional Neural Network Model\"\"\"\n",
    "    def __init__(self, input_size, image_width, image_height,\n",
    "                 firstHidden, kernel_size, output_size):\n",
    "        \"\"\"\n",
    "\n",
    "        Parameters\n",
    "        ----------\n",
    "        input_size:\n",
    "        image_width: The width of input images.\n",
    "                     this is provided from the data_information function\n",
    "        image_height: The width of input images.\n",
    "                     this is provided from the data_information function\n",
    "        firstHidden: The size of first hidden layer.\n",
    "                     The size of next layer will be twice of the current layer\n",
    "                     Ex: 1st is 8, 2nd will be 16, 3rd will be 24 and so on.\n",
    "                     Number of hidden layer is set as 4 by default.\n",
    "        kernel_size: It will form a subwindom with size of kernel to scan over\n",
    "                     the original image.\n",
    "                     kernel_size must be an odd integer,\n",
    "                     usually not larger than 7\n",
    "        output_size: The number of final target category.\n",
    "\n",
    "        \"\"\"\n",
    "        super(Net, self).__init__()\n",
    "        self.conv1 = nn.Conv2d(input_size, firstHidden, kernel_size)\n",
    "        self.conv2 = nn.Conv2d(firstHidden, firstHidden*2, kernel_size)\n",
    "        self.conv3 = nn.Conv2d(firstHidden*2, firstHidden*4, kernel_size)\n",
    "        self.conv4 = nn.Conv2d(firstHidden*4, firstHidden*8, kernel_size)\n",
    "        # Get size\n",
    "        x = torch.randn(image_height, image_width).view(-1, 1, image_height,\n",
    "                                                        image_width)\n",
    "        conv_to_linear = self.last_conv_neuron(x)\n",
    "\n",
    "        self.fc1 = nn.Linear(conv_to_linear, 64)\n",
    "        self.fc2 = nn.Linear(64, output_size)\n",
    "\n",
    "    def last_conv_neuron(self, x):\n",
    "        \"\"\"\n",
    "        Calculate how many neurons that the last convolutional layer will\n",
    "        connect to the linear hidden layer\n",
    "\n",
    "        Parameters\n",
    "        ----------\n",
    "        x: a random torch tensor with size (-1, 1, image_height, image_width)\n",
    "        Ex: x = torch.randn(image_height, image_width\n",
    "                            ).view(-1, 1, image_height, image_width)\n",
    "        \"\"\"\n",
    "        x = self.convs(x)\n",
    "        conv_to_linear = x[0].shape[0]*x[0].shape[1]*x[0].shape[2]\n",
    "        return conv_to_linear\n",
    "\n",
    "    def convs(self, x):\n",
    "        \"\"\"\n",
    "        Put the image into the convolutional hidden layer. Scan over the\n",
    "        original image to and use the max pooling function (with size 2) to\n",
    "        determine the one number to represent the sub-image.\n",
    "\n",
    "        \"\"\"\n",
    "        x = F.max_pool2d(F.relu(self.conv1(x)), (2, 2))\n",
    "        x = F.max_pool2d(F.relu(self.conv2(x)), (2, 2))\n",
    "        x = F.max_pool2d(F.relu(self.conv3(x)), (2, 2))\n",
    "        x = F.max_pool2d(F.relu(self.conv4(x)), (2, 2))\n",
    "        return x\n",
    "\n",
    "    def forward(self, x):\n",
    "        \"\"\"\n",
    "\n",
    "        \"\"\"\n",
    "        x = self.convs(x)\n",
    "        conv_to_linear = x[0].shape[0]*x[0].shape[1]*x[0].shape[2]\n",
    "        # Flatten the data\n",
    "        xF = x.view(-1, conv_to_linear)\n",
    "        # put into the first fully connected layer\n",
    "        output = torch.sigmoid(self.fc1(xF))\n",
    "        output = self.fc2(output)\n",
    "        return F.softmax(output, dim=1)\n"
   ]
  },
  {
   "cell_type": "code",
   "execution_count": 100,
   "metadata": {},
   "outputs": [
    {
     "name": "stdout",
     "output_type": "stream",
     "text": [
      "Net(\n",
      "  (conv1): Conv2d(1, 8, kernel_size=(3, 3), stride=(1, 1))\n",
      "  (conv2): Conv2d(8, 16, kernel_size=(3, 3), stride=(1, 1))\n",
      "  (conv3): Conv2d(16, 32, kernel_size=(3, 3), stride=(1, 1))\n",
      "  (conv4): Conv2d(32, 64, kernel_size=(3, 3), stride=(1, 1))\n",
      "  (fc1): Linear(in_features=95232, out_features=64, bias=True)\n",
      "  (fc2): Linear(in_features=64, out_features=2, bias=True)\n",
      ")\n"
     ]
    }
   ],
   "source": [
    "net = Net(1,800, 536, 8, 3, 2) #(input_size, W,H,first hidden, kernel size,output size)\n",
    "print(net)"
   ]
  },
  {
   "cell_type": "code",
   "execution_count": 101,
   "metadata": {
    "collapsed": true
   },
   "outputs": [],
   "source": [
    "def image_to_tensor(training_data, image_height, image_width):\n",
    "    \"\"\"Transform the array image into tensor.\"\"\"\n",
    "    X = torch.Tensor([i[1] for i in training_data]\n",
    "                     ).view(-1, image_height, image_width)\n",
    "    return X/255.\n",
    "\n",
    "\n"
   ]
  },
  {
   "cell_type": "code",
   "execution_count": 102,
   "metadata": {},
   "outputs": [],
   "source": [
    "X=image_to_tensor(training_data, 536, 800)\n",
    "#X=X/255. #normalizing X"
   ]
  },
  {
   "cell_type": "code",
   "execution_count": 103,
   "metadata": {
    "collapsed": true
   },
   "outputs": [],
   "source": [
    "def type_to_tensor(training_data):\n",
    "    \"\"\"Transform the array type into tensor.\"\"\"\n",
    "    y = torch.Tensor([i[2] for i in training_data])\n",
    "    return y"
   ]
  },
  {
   "cell_type": "code",
   "execution_count": 104,
   "metadata": {},
   "outputs": [],
   "source": [
    "y=type_to_tensor(training_data)"
   ]
  },
  {
   "cell_type": "code",
   "execution_count": 105,
   "metadata": {},
   "outputs": [
    {
     "name": "stdout",
     "output_type": "stream",
     "text": [
      "257\n"
     ]
    }
   ],
   "source": [
    "#X = torch.Tensor([i[0] for i in training_data]).view(-1, 536, 800)\n",
    "#X = X/255.0\n",
    "#y = torch.Tensor([i[1] for i in training_data])\n",
    "\n",
    "VAL_PCT = 0.2 # 20% for Testing\n",
    "val_size = int(len(X)*VAL_PCT)\n",
    "print(val_size)"
   ]
  },
  {
   "cell_type": "code",
   "execution_count": 106,
   "metadata": {},
   "outputs": [
    {
     "name": "stdout",
     "output_type": "stream",
     "text": [
      "Training Sample: 1028\n",
      "Testing Sample: 257\n"
     ]
    }
   ],
   "source": [
    "train_X = X[:-val_size]\n",
    "train_y = y[:-val_size]\n",
    "\n",
    "test_X = X[-val_size:]\n",
    "test_y = y[-val_size:]\n",
    "\n",
    "print(\"Training Sample:\", len(train_X))\n",
    "print(\"Testing Sample:\", len(test_X))"
   ]
  },
  {
   "cell_type": "code",
   "execution_count": 107,
   "metadata": {},
   "outputs": [
    {
     "data": {
      "text/plain": [
       "torch.Tensor"
      ]
     },
     "execution_count": 107,
     "metadata": {},
     "output_type": "execute_result"
    }
   ],
   "source": [
    "type(train_X)"
   ]
  },
  {
   "cell_type": "code",
   "execution_count": 108,
   "metadata": {
    "collapsed": true
   },
   "outputs": [],
   "source": [
    "\n",
    "def data_separation(data, ratio_of_testing, TRAIN):\n",
    "    \"\"\"Separate the training and testing data.\"\"\"\n",
    "    VAL_PCT = ratio_of_testing\n",
    "    val_size = int(len(data)*VAL_PCT)\n",
    "\n",
    "    if TRAIN is True:\n",
    "        train_data = data[:-val_size]\n",
    "        print(\"Training Samples:\", len(train_data))\n",
    "        return train_data\n",
    "    test_data = data[-val_size:]\n",
    "    print(\"Testing Samples:\", len(test_data))\n",
    "    return test_data\n",
    "\n",
    "\n"
   ]
  },
  {
   "cell_type": "code",
   "execution_count": 109,
   "metadata": {},
   "outputs": [
    {
     "name": "stdout",
     "output_type": "stream",
     "text": [
      "Testing Samples: 257\n"
     ]
    }
   ],
   "source": [
    "ratio_of_testing=0.2\n",
    "test_data=data_separation(X, ratio_of_testing, train_X)"
   ]
  },
  {
   "cell_type": "code",
   "execution_count": 110,
   "metadata": {
    "collapsed": true
   },
   "outputs": [],
   "source": [
    "def learning(train_data1, train_data2, input_size, image_width, image_height,\n",
    "             firstHidden, kernel_size, output_size, learning_rate, BATCH_SIZE,\n",
    "             EPOCHS):\n",
    "    \"\"\"\n",
    "    parameter\n",
    "    ---------\n",
    "    train_data1 = X_train [image data]\n",
    "    train_data2 = y_train [type data]\n",
    "    input_size = 1\n",
    "    image_width, image_height = same as the ones defined for preprocessing\n",
    "    firstHidden = 8, typically\n",
    "    kernel_size = 4\n",
    "    output_size = 2 [0=bad, 1=pass]\n",
    "    learning_rate = 0.001 at default for pytorch\n",
    "    BATCH_SIZE = 10 the number of images used for training at a time\n",
    "    EPOCHS = 1\n",
    "    \"\"\"\n",
    "    optimizer = optim.Adam(Net(input_size, image_width, image_height,\n",
    "                               firstHidden, kernel_size, output_size\n",
    "                               ).parameters(), lr=learning_rate) \n",
    "    loss_function = nn.L1Loss() #L1Loss() used for our model (complicated cnn model)\n",
    "\n",
    "    for epoch in range(EPOCHS):\n",
    "        for i in tqdm(range(0, len(train_data1), BATCH_SIZE)):\n",
    "            batch_data1 = train_data1[i:i+BATCH_SIZE].view(-1, 1,\n",
    "                                                           image_height,\n",
    "                                                           image_width)\n",
    "            batch_data2 = train_data2[i:i+BATCH_SIZE]\n",
    "\n",
    "            Net(input_size, image_width, image_height, firstHidden,\n",
    "                kernel_size, output_size).zero_grad()\n",
    "            outputs = Net(input_size, image_width, image_height, firstHidden,\n",
    "                          kernel_size, output_size)(batch_data1)\n",
    "            loss = loss_function(outputs, batch_data2)\n",
    "            loss.backward()\n",
    "            optimizer.step()\n",
    "\n",
    "        print(loss)\n",
    "\n",
    "\n"
   ]
  },
  {
   "cell_type": "code",
   "execution_count": 111,
   "metadata": {},
   "outputs": [
    {
     "name": "stderr",
     "output_type": "stream",
     "text": [
      "100%|██████████| 103/103 [08:32<00:00,  4.98s/it]"
     ]
    },
    {
     "name": "stdout",
     "output_type": "stream",
     "text": [
      "tensor(0.5772, grad_fn=<L1LossBackward>)\n"
     ]
    },
    {
     "name": "stderr",
     "output_type": "stream",
     "text": [
      "\n"
     ]
    }
   ],
   "source": [
    "loss = learning(train_X, train_y, 1, 800, 536, 8, 4, 2, 0.001, 10, 1)"
   ]
  },
  {
   "cell_type": "code",
   "execution_count": 113,
   "metadata": {
    "collapsed": true
   },
   "outputs": [],
   "source": [
    "def accuracy(test_data1, test_data2, input_size, image_width, image_height,\n",
    "             firstHidden, kernel_size, output_size):\n",
    "    \"\"\"\n",
    "\n",
    "    \"\"\"\n",
    "    correct = 0\n",
    "    total = 0\n",
    "    with torch.no_grad():\n",
    "        for i in tqdm(range(len(test_data1))):\n",
    "            real_type = torch.argmax(test_data2[i])\n",
    "            net_out_train = Net(input_size, image_width, image_height,\n",
    "                                firstHidden, kernel_size, output_size\n",
    "                                )(test_data1[i].view(-1, 1, image_height,\n",
    "                                                     image_width))[0]\n",
    "            predicted_type = torch.argmax(net_out_train)\n",
    "\n",
    "            if predicted_type == real_type:\n",
    "                correct += 1\n",
    "            total += 1\n",
    "\n",
    "    print(\"Accuracy:\", round(correct/total, 3))\n",
    "\n"
   ]
  },
  {
   "cell_type": "code",
   "execution_count": 112,
   "metadata": {},
   "outputs": [
    {
     "ename": "NameError",
     "evalue": "name 'accuracy' is not defined",
     "output_type": "error",
     "traceback": [
      "\u001b[0;31m---------------------------------------------------------------------------\u001b[0m",
      "\u001b[0;31mNameError\u001b[0m                                 Traceback (most recent call last)",
      "\u001b[0;32m<ipython-input-112-308aa71f0958>\u001b[0m in \u001b[0;36m<module>\u001b[0;34m()\u001b[0m\n\u001b[0;32m----> 1\u001b[0;31m accuracy = accuracy(test_X, test_y, 1, 800, 536,\n\u001b[0m\u001b[1;32m      2\u001b[0m              8, 4, 2)\n",
      "\u001b[0;31mNameError\u001b[0m: name 'accuracy' is not defined"
     ]
    }
   ],
   "source": [
    "accuracy = accuracy(test_X, test_y, 1, 800, 536,\n",
    "             8, 4, 2)"
   ]
  },
  {
   "cell_type": "code",
   "execution_count": 116,
   "metadata": {
    "collapsed": true
   },
   "outputs": [],
   "source": [
    "def type_prediction(k, path_List_training, tensor_data, array_data,\n",
    "                    input_size, image_width, image_height, firstHidden,\n",
    "                    kernel_size, output_size, detailed_information):\n",
    "    \"\"\"\n",
    "    Predict which type the input image is and print out the total number of\n",
    "    each type.\n",
    "    (Optional) Print out the predicted type and file name for each image.\n",
    "    Parameters\n",
    "    ----------\n",
    "    k\n",
    "    path\n",
    "    Same as the parameters of nn model\n",
    "    input_size\n",
    "    image_width: The target width after resize\n",
    "    image_height: The target height after resize\n",
    "    firstHidden: The size of first hidden layer.\n",
    "    kernel_size: It will form a subwindom with size of kernel to scan over\n",
    "                 the original image.\n",
    "    output_size: The number of final target type.\n",
    "    detailed information: Show the predicted type and file\n",
    "                          name for each image or not\n",
    "    \"\"\"\n",
    "    countImage_predicted_type = [0, 0, 0, 0, 0, 0, 0]\n",
    "    for i in range(len(Input_data)):\n",
    "        net_out_predict = Net(input_size, image_width, image_height,\n",
    "                              firstHidden, kernel_size, output_size\n",
    "                              )(Input_data[i].view(-1, 1, image_height,\n",
    "                                                   image_width))[0]\n",
    "        predicted_type = torch.argmax(net_out_predict)\n",
    "        for Type in range(k):\n",
    "            if predicted_type == 0:\n",
    "                countImage_predicted_type[Type] += 1\n",
    "                # Print out the detailed information.\n",
    "                if detailed_information is True:\n",
    "                    print(\"Warning! Type Prediction:\", path_List_training[Type])\n",
    "                    print(\"Path and File Name\", array_data[i][0])\n",
    "            else:\n",
    "                countImage_predicted_type[Type] += 1\n",
    "                \n",
    "\n",
    "    for i in range(len(path_List_training)-1):\n",
    "        print(path_List_training[i], \":\", countImage_predicted_type[i])"
   ]
  },
  {
   "cell_type": "code",
   "execution_count": null,
   "metadata": {},
   "outputs": [],
   "source": [
    "print(training_data[0])"
   ]
  },
  {
   "cell_type": "code",
   "execution_count": 117,
   "metadata": {},
   "outputs": [
    {
     "name": "stdout",
     "output_type": "stream",
     "text": [
      "Warning! Type Prediction: /Users/mkim91/Desktop/Direct/Eisy_as_py/eisy/cnn/Neural_Network/Noisy\n",
      "Path and File Name /Users/mkim91/Desktop/Direct/Eisy_as_py/eisy/cnn/Neural_Network/Noisy/200315-0427_sim_spread-True.png\n",
      "Warning! Type Prediction: /Users/mkim91/Desktop/Direct/Eisy_as_py/eisy/cnn/Neural_Network/Noisy\n",
      "Path and File Name /Users/mkim91/Desktop/Direct/Eisy_as_py/eisy/cnn/Neural_Network/Noisy/200315-0185_randles_simp-True.png\n",
      "Warning! Type Prediction: /Users/mkim91/Desktop/Direct/Eisy_as_py/eisy/cnn/Neural_Network/Noisy\n",
      "Path and File Name /Users/mkim91/Desktop/Direct/Eisy_as_py/eisy/cnn/Neural_Network/Noisy/200315-0200_sim_spread-True.png\n",
      "Warning! Type Prediction: /Users/mkim91/Desktop/Direct/Eisy_as_py/eisy/cnn/Neural_Network/Noisy\n",
      "Path and File Name /Users/mkim91/Desktop/Direct/Eisy_as_py/eisy/cnn/Neural_Network/Noisy/200315-0681_sim_spread-True.png\n",
      "Warning! Type Prediction: /Users/mkim91/Desktop/Direct/Eisy_as_py/eisy/cnn/Neural_Network/Noisy\n",
      "Path and File Name /Users/mkim91/Desktop/Direct/Eisy_as_py/eisy/cnn/Neural_Network/Noisy/200315-0162_sim_spread-True.png\n",
      "Warning! Type Prediction: /Users/mkim91/Desktop/Direct/Eisy_as_py/eisy/cnn/Neural_Network/Noisy\n",
      "Path and File Name /Users/mkim91/Desktop/Direct/Eisy_as_py/eisy/cnn/Neural_Network/Noisy/200315-0492_sim_spread-True.png\n",
      "Warning! Type Prediction: /Users/mkim91/Desktop/Direct/Eisy_as_py/eisy/cnn/Neural_Network/Noisy\n",
      "Path and File Name /Users/mkim91/Desktop/Direct/Eisy_as_py/eisy/cnn/Neural_Network/Noisy/200315-0106_sim_one-True.png\n",
      "Warning! Type Prediction: /Users/mkim91/Desktop/Direct/Eisy_as_py/eisy/cnn/Neural_Network/Noisy\n",
      "Path and File Name /Users/mkim91/Desktop/Direct/Eisy_as_py/eisy/cnn/Neural_Network/Noisy/200315-0360_sim_spread-True.png\n",
      "Warning! Type Prediction: /Users/mkim91/Desktop/Direct/Eisy_as_py/eisy/cnn/Neural_Network/Noisy\n",
      "Path and File Name /Users/mkim91/Desktop/Direct/Eisy_as_py/eisy/cnn/Neural_Network/Noisy/200315-0641_sim_spread-True.png\n",
      "Warning! Type Prediction: /Users/mkim91/Desktop/Direct/Eisy_as_py/eisy/cnn/Neural_Network/Noisy\n",
      "Path and File Name /Users/mkim91/Desktop/Direct/Eisy_as_py/eisy/cnn/Neural_Network/Noisy/200315-0135_sim_spread-True.png\n",
      "Warning! Type Prediction: /Users/mkim91/Desktop/Direct/Eisy_as_py/eisy/cnn/Neural_Network/Noisy\n",
      "Path and File Name /Users/mkim91/Desktop/Direct/Eisy_as_py/eisy/cnn/Neural_Network/Noisy/200315-0078_sim_spread-True.png\n",
      "Warning! Type Prediction: /Users/mkim91/Desktop/Direct/Eisy_as_py/eisy/cnn/Neural_Network/Noisy\n",
      "Path and File Name /Users/mkim91/Desktop/Direct/Eisy_as_py/eisy/cnn/Neural_Network/Noisy/200315-0912_sim_spread-True(1).png\n",
      "Warning! Type Prediction: /Users/mkim91/Desktop/Direct/Eisy_as_py/eisy/cnn/Neural_Network/Noisy\n",
      "Path and File Name /Users/mkim91/Desktop/Direct/Eisy_as_py/eisy/cnn/Neural_Network/Noisy/200315-0266_sim_spread-True.png\n",
      "Warning! Type Prediction: /Users/mkim91/Desktop/Direct/Eisy_as_py/eisy/cnn/Neural_Network/Noisy\n",
      "Path and File Name /Users/mkim91/Desktop/Direct/Eisy_as_py/eisy/cnn/Neural_Network/Noisy/200315-0592_sim_spread-True.png\n",
      "Warning! Type Prediction: /Users/mkim91/Desktop/Direct/Eisy_as_py/eisy/cnn/Neural_Network/Noisy\n",
      "Path and File Name /Users/mkim91/Desktop/Direct/Eisy_as_py/eisy/cnn/Neural_Network/Noisy/200315-0517_sim_spread-True.png\n",
      "Warning! Type Prediction: /Users/mkim91/Desktop/Direct/Eisy_as_py/eisy/cnn/Neural_Network/Noisy\n",
      "Path and File Name /Users/mkim91/Desktop/Direct/Eisy_as_py/eisy/cnn/Neural_Network/Noisy/200315-0871_sim_spread-True.png\n",
      "Warning! Type Prediction: /Users/mkim91/Desktop/Direct/Eisy_as_py/eisy/cnn/Neural_Network/Noisy\n",
      "Path and File Name /Users/mkim91/Desktop/Direct/Eisy_as_py/eisy/cnn/Neural_Network/Noisy/200315-0002_sim_spread-True.png\n",
      "Warning! Type Prediction: /Users/mkim91/Desktop/Direct/Eisy_as_py/eisy/cnn/Neural_Network/Noisy\n",
      "Path and File Name /Users/mkim91/Desktop/Direct/Eisy_as_py/eisy/cnn/Neural_Network/Noisy/200315-0334_sim_spread-True.png\n",
      "Warning! Type Prediction: /Users/mkim91/Desktop/Direct/Eisy_as_py/eisy/cnn/Neural_Network/Noisy\n",
      "Path and File Name /Users/mkim91/Desktop/Direct/Eisy_as_py/eisy/cnn/Neural_Network/Noisy/200315-0074_sim_one-True.png\n",
      "Warning! Type Prediction: /Users/mkim91/Desktop/Direct/Eisy_as_py/eisy/cnn/Neural_Network/Noisy\n",
      "Path and File Name /Users/mkim91/Desktop/Direct/Eisy_as_py/eisy/cnn/Neural_Network/Noisy/200315-0154_randles_simp-True.png\n",
      "Warning! Type Prediction: /Users/mkim91/Desktop/Direct/Eisy_as_py/eisy/cnn/Neural_Network/Noisy\n",
      "Path and File Name /Users/mkim91/Desktop/Direct/Eisy_as_py/eisy/cnn/Neural_Network/Noisy/200315-0391_sim_spread-True.png\n",
      "Warning! Type Prediction: /Users/mkim91/Desktop/Direct/Eisy_as_py/eisy/cnn/Neural_Network/Noisy\n",
      "Path and File Name /Users/mkim91/Desktop/Direct/Eisy_as_py/eisy/cnn/Neural_Network/Noisy/200315-0025_sim_spread-True.png\n",
      "Warning! Type Prediction: /Users/mkim91/Desktop/Direct/Eisy_as_py/eisy/cnn/Neural_Network/Noisy\n",
      "Path and File Name /Users/mkim91/Desktop/Direct/Eisy_as_py/eisy/cnn/Neural_Network/Noisy/200315-0008_randles_simp-True.png\n",
      "Warning! Type Prediction: /Users/mkim91/Desktop/Direct/Eisy_as_py/eisy/cnn/Neural_Network/Noisy\n",
      "Path and File Name /Users/mkim91/Desktop/Direct/Eisy_as_py/eisy/cnn/Neural_Network/Noisy/200315-0306_sim_spread-True.png\n",
      "Warning! Type Prediction: /Users/mkim91/Desktop/Direct/Eisy_as_py/eisy/cnn/Neural_Network/Noisy\n",
      "Path and File Name /Users/mkim91/Desktop/Direct/Eisy_as_py/eisy/cnn/Neural_Network/Noisy/200315-0025_randles_simp-True.png\n",
      "Warning! Type Prediction: /Users/mkim91/Desktop/Direct/Eisy_as_py/eisy/cnn/Neural_Network/Noisy\n",
      "Path and File Name /Users/mkim91/Desktop/Direct/Eisy_as_py/eisy/cnn/Neural_Network/Noisy/200315-0317_sim_spread-True.png\n",
      "Warning! Type Prediction: /Users/mkim91/Desktop/Direct/Eisy_as_py/eisy/cnn/Neural_Network/Noisy\n",
      "Path and File Name /Users/mkim91/Desktop/Direct/Eisy_as_py/eisy/cnn/Neural_Network/Noisy/200315-0092_sim_one-True.png\n",
      "Warning! Type Prediction: /Users/mkim91/Desktop/Direct/Eisy_as_py/eisy/cnn/Neural_Network/Noisy\n",
      "Path and File Name /Users/mkim91/Desktop/Direct/Eisy_as_py/eisy/cnn/Neural_Network/Noisy/200315-0024_randles_simp-True.png\n",
      "Warning! Type Prediction: /Users/mkim91/Desktop/Direct/Eisy_as_py/eisy/cnn/Neural_Network/Noisy\n",
      "Path and File Name /Users/mkim91/Desktop/Direct/Eisy_as_py/eisy/cnn/Neural_Network/Noisy/200315-0863_sim_spread-True.png\n",
      "Warning! Type Prediction: /Users/mkim91/Desktop/Direct/Eisy_as_py/eisy/cnn/Neural_Network/Noisy\n",
      "Path and File Name /Users/mkim91/Desktop/Direct/Eisy_as_py/eisy/cnn/Neural_Network/Noisy/200315-0010_sim_one-True.png\n",
      "Warning! Type Prediction: /Users/mkim91/Desktop/Direct/Eisy_as_py/eisy/cnn/Neural_Network/Noisy\n",
      "Path and File Name /Users/mkim91/Desktop/Direct/Eisy_as_py/eisy/cnn/Neural_Network/Noisy/200315-0399_sim_spread-True.png\n",
      "Warning! Type Prediction: /Users/mkim91/Desktop/Direct/Eisy_as_py/eisy/cnn/Neural_Network/Noisy\n",
      "Path and File Name /Users/mkim91/Desktop/Direct/Eisy_as_py/eisy/cnn/Neural_Network/Noisy/200315-0168_sim_spread-True.png\n"
     ]
    },
    {
     "ename": "KeyboardInterrupt",
     "evalue": "",
     "output_type": "error",
     "traceback": [
      "\u001b[0;31m---------------------------------------------------------------------------\u001b[0m",
      "\u001b[0;31mKeyboardInterrupt\u001b[0m                         Traceback (most recent call last)",
      "\u001b[0;32m<ipython-input-117-b3a8b43a3f0e>\u001b[0m in \u001b[0;36m<module>\u001b[0;34m()\u001b[0m\n\u001b[1;32m     12\u001b[0m type_prediction(k, path_List_training, Input_data, np_array_data,\n\u001b[1;32m     13\u001b[0m                     \u001b[0minput_size\u001b[0m\u001b[0;34m,\u001b[0m \u001b[0mimage_width\u001b[0m\u001b[0;34m,\u001b[0m \u001b[0mimage_height\u001b[0m\u001b[0;34m,\u001b[0m \u001b[0mfirstHidden\u001b[0m\u001b[0;34m,\u001b[0m\u001b[0;34m\u001b[0m\u001b[0m\n\u001b[0;32m---> 14\u001b[0;31m                     kernel_size, output_size,detailed)\n\u001b[0m",
      "\u001b[0;32m<ipython-input-116-fcce719132d1>\u001b[0m in \u001b[0;36mtype_prediction\u001b[0;34m(k, path_List_training, tensor_data, array_data, input_size, image_width, image_height, firstHidden, kernel_size, output_size, detailed_information)\u001b[0m\n\u001b[1;32m     24\u001b[0m     \u001b[0;32mfor\u001b[0m \u001b[0mi\u001b[0m \u001b[0;32min\u001b[0m \u001b[0mrange\u001b[0m\u001b[0;34m(\u001b[0m\u001b[0mlen\u001b[0m\u001b[0;34m(\u001b[0m\u001b[0mInput_data\u001b[0m\u001b[0;34m)\u001b[0m\u001b[0;34m)\u001b[0m\u001b[0;34m:\u001b[0m\u001b[0;34m\u001b[0m\u001b[0m\n\u001b[1;32m     25\u001b[0m         net_out_predict = Net(input_size, image_width, image_height,\n\u001b[0;32m---> 26\u001b[0;31m                               \u001b[0mfirstHidden\u001b[0m\u001b[0;34m,\u001b[0m \u001b[0mkernel_size\u001b[0m\u001b[0;34m,\u001b[0m \u001b[0moutput_size\u001b[0m\u001b[0;34m\u001b[0m\u001b[0m\n\u001b[0m\u001b[1;32m     27\u001b[0m                               )(Input_data[i].view(-1, 1, image_height,\n\u001b[1;32m     28\u001b[0m                                                    image_width))[0]\n",
      "\u001b[0;32m<ipython-input-99-5dd584bf4c14>\u001b[0m in \u001b[0;36m__init__\u001b[0;34m(self, input_size, image_width, image_height, firstHidden, kernel_size, output_size)\u001b[0m\n\u001b[1;32m     33\u001b[0m         \u001b[0mconv_to_linear\u001b[0m \u001b[0;34m=\u001b[0m \u001b[0mself\u001b[0m\u001b[0;34m.\u001b[0m\u001b[0mlast_conv_neuron\u001b[0m\u001b[0;34m(\u001b[0m\u001b[0mx\u001b[0m\u001b[0;34m)\u001b[0m\u001b[0;34m\u001b[0m\u001b[0m\n\u001b[1;32m     34\u001b[0m \u001b[0;34m\u001b[0m\u001b[0m\n\u001b[0;32m---> 35\u001b[0;31m         \u001b[0mself\u001b[0m\u001b[0;34m.\u001b[0m\u001b[0mfc1\u001b[0m \u001b[0;34m=\u001b[0m \u001b[0mnn\u001b[0m\u001b[0;34m.\u001b[0m\u001b[0mLinear\u001b[0m\u001b[0;34m(\u001b[0m\u001b[0mconv_to_linear\u001b[0m\u001b[0;34m,\u001b[0m \u001b[0;36m64\u001b[0m\u001b[0;34m)\u001b[0m\u001b[0;34m\u001b[0m\u001b[0m\n\u001b[0m\u001b[1;32m     36\u001b[0m         \u001b[0mself\u001b[0m\u001b[0;34m.\u001b[0m\u001b[0mfc2\u001b[0m \u001b[0;34m=\u001b[0m \u001b[0mnn\u001b[0m\u001b[0;34m.\u001b[0m\u001b[0mLinear\u001b[0m\u001b[0;34m(\u001b[0m\u001b[0;36m64\u001b[0m\u001b[0;34m,\u001b[0m \u001b[0moutput_size\u001b[0m\u001b[0;34m)\u001b[0m\u001b[0;34m\u001b[0m\u001b[0m\n\u001b[1;32m     37\u001b[0m \u001b[0;34m\u001b[0m\u001b[0m\n",
      "\u001b[0;32m~/anaconda3/lib/python3.6/site-packages/torch/nn/modules/linear.py\u001b[0m in \u001b[0;36m__init__\u001b[0;34m(self, in_features, out_features, bias)\u001b[0m\n\u001b[1;32m     75\u001b[0m         \u001b[0;32melse\u001b[0m\u001b[0;34m:\u001b[0m\u001b[0;34m\u001b[0m\u001b[0m\n\u001b[1;32m     76\u001b[0m             \u001b[0mself\u001b[0m\u001b[0;34m.\u001b[0m\u001b[0mregister_parameter\u001b[0m\u001b[0;34m(\u001b[0m\u001b[0;34m'bias'\u001b[0m\u001b[0;34m,\u001b[0m \u001b[0;32mNone\u001b[0m\u001b[0;34m)\u001b[0m\u001b[0;34m\u001b[0m\u001b[0m\n\u001b[0;32m---> 77\u001b[0;31m         \u001b[0mself\u001b[0m\u001b[0;34m.\u001b[0m\u001b[0mreset_parameters\u001b[0m\u001b[0;34m(\u001b[0m\u001b[0;34m)\u001b[0m\u001b[0;34m\u001b[0m\u001b[0m\n\u001b[0m\u001b[1;32m     78\u001b[0m \u001b[0;34m\u001b[0m\u001b[0m\n\u001b[1;32m     79\u001b[0m     \u001b[0;32mdef\u001b[0m \u001b[0mreset_parameters\u001b[0m\u001b[0;34m(\u001b[0m\u001b[0mself\u001b[0m\u001b[0;34m)\u001b[0m\u001b[0;34m:\u001b[0m\u001b[0;34m\u001b[0m\u001b[0m\n",
      "\u001b[0;32m~/anaconda3/lib/python3.6/site-packages/torch/nn/modules/linear.py\u001b[0m in \u001b[0;36mreset_parameters\u001b[0;34m(self)\u001b[0m\n\u001b[1;32m     78\u001b[0m \u001b[0;34m\u001b[0m\u001b[0m\n\u001b[1;32m     79\u001b[0m     \u001b[0;32mdef\u001b[0m \u001b[0mreset_parameters\u001b[0m\u001b[0;34m(\u001b[0m\u001b[0mself\u001b[0m\u001b[0;34m)\u001b[0m\u001b[0;34m:\u001b[0m\u001b[0;34m\u001b[0m\u001b[0m\n\u001b[0;32m---> 80\u001b[0;31m         \u001b[0minit\u001b[0m\u001b[0;34m.\u001b[0m\u001b[0mkaiming_uniform_\u001b[0m\u001b[0;34m(\u001b[0m\u001b[0mself\u001b[0m\u001b[0;34m.\u001b[0m\u001b[0mweight\u001b[0m\u001b[0;34m,\u001b[0m \u001b[0ma\u001b[0m\u001b[0;34m=\u001b[0m\u001b[0mmath\u001b[0m\u001b[0;34m.\u001b[0m\u001b[0msqrt\u001b[0m\u001b[0;34m(\u001b[0m\u001b[0;36m5\u001b[0m\u001b[0;34m)\u001b[0m\u001b[0;34m)\u001b[0m\u001b[0;34m\u001b[0m\u001b[0m\n\u001b[0m\u001b[1;32m     81\u001b[0m         \u001b[0;32mif\u001b[0m \u001b[0mself\u001b[0m\u001b[0;34m.\u001b[0m\u001b[0mbias\u001b[0m \u001b[0;32mis\u001b[0m \u001b[0;32mnot\u001b[0m \u001b[0;32mNone\u001b[0m\u001b[0;34m:\u001b[0m\u001b[0;34m\u001b[0m\u001b[0m\n\u001b[1;32m     82\u001b[0m             \u001b[0mfan_in\u001b[0m\u001b[0;34m,\u001b[0m \u001b[0m_\u001b[0m \u001b[0;34m=\u001b[0m \u001b[0minit\u001b[0m\u001b[0;34m.\u001b[0m\u001b[0m_calculate_fan_in_and_fan_out\u001b[0m\u001b[0;34m(\u001b[0m\u001b[0mself\u001b[0m\u001b[0;34m.\u001b[0m\u001b[0mweight\u001b[0m\u001b[0;34m)\u001b[0m\u001b[0;34m\u001b[0m\u001b[0m\n",
      "\u001b[0;32m~/anaconda3/lib/python3.6/site-packages/torch/nn/init.py\u001b[0m in \u001b[0;36mkaiming_uniform_\u001b[0;34m(tensor, a, mode, nonlinearity)\u001b[0m\n\u001b[1;32m    313\u001b[0m     \u001b[0mbound\u001b[0m \u001b[0;34m=\u001b[0m \u001b[0mmath\u001b[0m\u001b[0;34m.\u001b[0m\u001b[0msqrt\u001b[0m\u001b[0;34m(\u001b[0m\u001b[0;36m3.0\u001b[0m\u001b[0;34m)\u001b[0m \u001b[0;34m*\u001b[0m \u001b[0mstd\u001b[0m  \u001b[0;31m# Calculate uniform bounds from standard deviation\u001b[0m\u001b[0;34m\u001b[0m\u001b[0m\n\u001b[1;32m    314\u001b[0m     \u001b[0;32mwith\u001b[0m \u001b[0mtorch\u001b[0m\u001b[0;34m.\u001b[0m\u001b[0mno_grad\u001b[0m\u001b[0;34m(\u001b[0m\u001b[0;34m)\u001b[0m\u001b[0;34m:\u001b[0m\u001b[0;34m\u001b[0m\u001b[0m\n\u001b[0;32m--> 315\u001b[0;31m         \u001b[0;32mreturn\u001b[0m \u001b[0mtensor\u001b[0m\u001b[0;34m.\u001b[0m\u001b[0muniform_\u001b[0m\u001b[0;34m(\u001b[0m\u001b[0;34m-\u001b[0m\u001b[0mbound\u001b[0m\u001b[0;34m,\u001b[0m \u001b[0mbound\u001b[0m\u001b[0;34m)\u001b[0m\u001b[0;34m\u001b[0m\u001b[0m\n\u001b[0m\u001b[1;32m    316\u001b[0m \u001b[0;34m\u001b[0m\u001b[0m\n\u001b[1;32m    317\u001b[0m \u001b[0;34m\u001b[0m\u001b[0m\n",
      "\u001b[0;31mKeyboardInterrupt\u001b[0m: "
     ]
    }
   ],
   "source": [
    "path_List_training= [NS, SH]\n",
    "k=len(path_List_training)-1\n",
    "Input_data=X\n",
    "np_array_data=training_data\n",
    "input_size=1\n",
    "image_width=800\n",
    "image_height=536\n",
    "firstHidden=8\n",
    "kernel_size=4\n",
    "output_size=2\n",
    "detailed= True\n",
    "type_prediction(k, path_List_training, Input_data, np_array_data,\n",
    "                    input_size, image_width, image_height, firstHidden,\n",
    "                    kernel_size, output_size,detailed)"
   ]
  },
  {
   "cell_type": "code",
   "execution_count": null,
   "metadata": {
    "collapsed": true
   },
   "outputs": [],
   "source": []
  }
 ],
 "metadata": {
  "kernelspec": {
   "display_name": "Python 3",
   "language": "python",
   "name": "python3"
  },
  "language_info": {
   "codemirror_mode": {
    "name": "ipython",
    "version": 3
   },
   "file_extension": ".py",
   "mimetype": "text/x-python",
   "name": "python",
   "nbconvert_exporter": "python",
   "pygments_lexer": "ipython3",
   "version": "3.6.3"
  }
 },
 "nbformat": 4,
 "nbformat_minor": 2
}
