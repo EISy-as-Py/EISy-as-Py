{
 "cells": [
  {
   "cell_type": "code",
   "execution_count": 1,
   "metadata": {},
   "outputs": [],
   "source": [
    "import csv\n",
    "import numpy as np\n",
    "import pandas as pd\n",
    "import time\n",
    "from PyEIS import *\n",
    "import data_simulation"
   ]
  },
  {
   "cell_type": "markdown",
   "metadata": {},
   "source": [
    "Define the frequency range you want to investigate:"
   ]
  },
  {
   "cell_type": "code",
   "execution_count": 2,
   "metadata": {},
   "outputs": [],
   "source": [
    "# Define the initial and final frequency values\n",
    "f_start = 10**8\n",
    "f_stop = 0.01\n",
    "decades = 7\n",
    "\n",
    "f_range= freq_gen(f_start, f_stop, decades)"
   ]
  },
  {
   "cell_type": "markdown",
   "metadata": {},
   "source": [
    "Define the circuit you want to simulate. In this case we are goign to use a simple RC circuit. \n",
    "\n",
    "<img src='https://raw.githubusercontent.com/kbknudsen/PyEIS/master/pyEIS_images/RC_circuit.png' width=\"300\" />"
   ]
  },
  {
   "cell_type": "code",
   "execution_count": 3,
   "metadata": {},
   "outputs": [],
   "source": [
    "R = 70 # ohm\n",
    "C= 10E-6 #F\n",
    "\n",
    "circuit = cir_RC(f_range[1], R, C)"
   ]
  },
  {
   "cell_type": "markdown",
   "metadata": {},
   "source": [
    "Next simulate the impedance data for the above circuit and print few lines of the dataframe. "
   ]
  },
  {
   "cell_type": "code",
   "execution_count": 4,
   "metadata": {},
   "outputs": [],
   "source": [
    "rc_response = data_simulation.rc_simulation(f_start, f_stop, decades, R, C, 1) "
   ]
  },
  {
   "cell_type": "code",
   "execution_count": 5,
   "metadata": {},
   "outputs": [
    {
     "data": {
      "text/html": [
       "<div>\n",
       "<style scoped>\n",
       "    .dataframe tbody tr th:only-of-type {\n",
       "        vertical-align: middle;\n",
       "    }\n",
       "\n",
       "    .dataframe tbody tr th {\n",
       "        vertical-align: top;\n",
       "    }\n",
       "\n",
       "    .dataframe thead th {\n",
       "        text-align: right;\n",
       "    }\n",
       "</style>\n",
       "<table border=\"1\" class=\"dataframe\">\n",
       "  <thead>\n",
       "    <tr style=\"text-align: right;\">\n",
       "      <th></th>\n",
       "      <th>freq[Hz]</th>\n",
       "      <th>angular_freq[1/s]</th>\n",
       "      <th>Re_Z [Ohm]</th>\n",
       "      <th>Im_Z [Ohm]</th>\n",
       "      <th>|Z| [Ohm]</th>\n",
       "      <th>phase_angle</th>\n",
       "    </tr>\n",
       "  </thead>\n",
       "  <tbody>\n",
       "    <tr>\n",
       "      <th>0</th>\n",
       "      <td>1.000000e+08</td>\n",
       "      <td>6.283185e+08</td>\n",
       "      <td>5.169448e-17</td>\n",
       "      <td>-2.273642e-11</td>\n",
       "      <td>2.273642e-11</td>\n",
       "      <td>-1.570794</td>\n",
       "    </tr>\n",
       "    <tr>\n",
       "      <th>1</th>\n",
       "      <td>7.162629e+07</td>\n",
       "      <td>4.500413e+08</td>\n",
       "      <td>1.007626e-16</td>\n",
       "      <td>-3.174312e-11</td>\n",
       "      <td>3.174312e-11</td>\n",
       "      <td>-1.570793</td>\n",
       "    </tr>\n",
       "    <tr>\n",
       "      <th>2</th>\n",
       "      <td>5.130326e+07</td>\n",
       "      <td>3.223479e+08</td>\n",
       "      <td>1.964058e-16</td>\n",
       "      <td>-4.431769e-11</td>\n",
       "      <td>4.431769e-11</td>\n",
       "      <td>-1.570792</td>\n",
       "    </tr>\n",
       "    <tr>\n",
       "      <th>3</th>\n",
       "      <td>3.674662e+07</td>\n",
       "      <td>2.308858e+08</td>\n",
       "      <td>3.828330e-16</td>\n",
       "      <td>-6.187350e-11</td>\n",
       "      <td>6.187350e-11</td>\n",
       "      <td>-1.570790</td>\n",
       "    </tr>\n",
       "    <tr>\n",
       "      <th>4</th>\n",
       "      <td>2.632024e+07</td>\n",
       "      <td>1.653749e+08</td>\n",
       "      <td>7.462159e-16</td>\n",
       "      <td>-8.638379e-11</td>\n",
       "      <td>8.638379e-11</td>\n",
       "      <td>-1.570788</td>\n",
       "    </tr>\n",
       "  </tbody>\n",
       "</table>\n",
       "</div>"
      ],
      "text/plain": [
       "       freq[Hz]  angular_freq[1/s]    Re_Z [Ohm]    Im_Z [Ohm]     |Z| [Ohm]  \\\n",
       "0  1.000000e+08       6.283185e+08  5.169448e-17 -2.273642e-11  2.273642e-11   \n",
       "1  7.162629e+07       4.500413e+08  1.007626e-16 -3.174312e-11  3.174312e-11   \n",
       "2  5.130326e+07       3.223479e+08  1.964058e-16 -4.431769e-11  4.431769e-11   \n",
       "3  3.674662e+07       2.308858e+08  3.828330e-16 -6.187350e-11  6.187350e-11   \n",
       "4  2.632024e+07       1.653749e+08  7.462159e-16 -8.638379e-11  8.638379e-11   \n",
       "\n",
       "   phase_angle  \n",
       "0    -1.570794  \n",
       "1    -1.570793  \n",
       "2    -1.570792  \n",
       "3    -1.570790  \n",
       "4    -1.570788  "
      ]
     },
     "execution_count": 5,
     "metadata": {},
     "output_type": "execute_result"
    }
   ],
   "source": [
    "rc_response.head(5)"
   ]
  },
  {
   "cell_type": "code",
   "execution_count": 6,
   "metadata": {},
   "outputs": [],
   "source": [
    "file= data_simulation.sim_rc_file_writer(f_start, f_stop, decades, R, C, 1)"
   ]
  },
  {
   "cell_type": "code",
   "execution_count": null,
   "metadata": {},
   "outputs": [],
   "source": []
  }
 ],
 "metadata": {
  "kernelspec": {
   "display_name": "Python 3",
   "language": "python",
   "name": "python3"
  },
  "language_info": {
   "codemirror_mode": {
    "name": "ipython",
    "version": 3
   },
   "file_extension": ".py",
   "mimetype": "text/x-python",
   "name": "python",
   "nbconvert_exporter": "python",
   "pygments_lexer": "ipython3",
   "version": "3.7.5"
  }
 },
 "nbformat": 4,
 "nbformat_minor": 4
}
