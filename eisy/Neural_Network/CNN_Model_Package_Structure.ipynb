{
 "cells": [
  {
   "cell_type": "markdown",
   "metadata": {},
   "source": [
    "**This notebook is only used as an example. Detailed doc string is in the CNN_Model.py file.** "
   ]
  },
  {
   "cell_type": "markdown",
   "metadata": {},
   "source": [
    "# Import Necessary Package"
   ]
  },
  {
   "cell_type": "code",
   "execution_count": 1,
   "metadata": {},
   "outputs": [],
   "source": [
    "import os\n",
    "import cv2\n",
    "from tqdm import tqdm\n",
    "\n",
    "import numpy as np\n",
    "import matplotlib.pyplot as plt\n",
    "\n",
    "import torch\n",
    "import torch.nn as nn\n",
    "import torch.nn.functional as F\n",
    "import torch.optim as optim"
   ]
  },
  {
   "cell_type": "markdown",
   "metadata": {},
   "source": [
    "# Data Pre-Processing\n",
    "* For the training process, get image from the directory and put label it.\n",
    "* For the predicting process, get image from the dirctory only."
   ]
  },
  {
   "cell_type": "code",
   "execution_count": 2,
   "metadata": {},
   "outputs": [],
   "source": [
    "# Initiate the path list for both of training and predict\n",
    "TRAINING = ['Nyquist/Noisy', 'Nyquist/SingleHump', \n",
    "            'Nyquist/TwoHumps', 'Nyquist/Tail', 'EIS_training.npy']\n",
    "PREDICT = ['Nyquist/Random', 'EIS_predicting.npy']\n",
    "\n",
    "# Initiate some parameter\n",
    "image_width = 800\n",
    "image_height = 536"
   ]
  },
  {
   "cell_type": "code",
   "execution_count": 3,
   "metadata": {},
   "outputs": [],
   "source": [
    "class EISDataImport():\n",
    "    \"\"\"Data Import and Pre-Processing\"\"\"\n",
    "\n",
    "    def DataImporter_Training(self, k, path_List_training,\n",
    "                              image_width, image_height):\n",
    "        path_list = path_List_training\n",
    "        countImage_Training = [0, 0, 0, 0, 0, 0, 0]\n",
    "        training_data = []\n",
    "        # Iterate the directory\n",
    "        for label in range(len(path_list)-1):\n",
    "            print(path_list[label])\n",
    "            # Iterate all the image within the directory, f -> the file name\n",
    "            for f in tqdm(os.listdir(path_list[label])):\n",
    "                # Get the full path to the image\n",
    "                path = os.path.join(path_list[label], f)\n",
    "                if \"png\" in path:\n",
    "                    # Read images in the given path and turn into nparray.\n",
    "                    # Convert the iimage to gray scale (optional)\n",
    "                    img = cv2.imread(path, cv2.IMREAD_GRAYSCALE)\n",
    "                    img = cv2.resize(img, (image_width, image_height))\n",
    "                    # Label the image with np.eye() matrix.\n",
    "                    training_data.append([path, np.array(img),\n",
    "                                          np.eye(k)[label]])\n",
    "                    for i in range(k):\n",
    "                        if label == i:\n",
    "                            countImage_Training[i] += 1\n",
    "\n",
    "        np.random.shuffle(training_data)\n",
    "        np.save(path_list[-1], training_data)\n",
    "        for i in range(len(path_list)-1):\n",
    "            print(path_List_training[i], \":\", countImage_Training[i])\n",
    "\n",
    "    def DataImporter_Predict(self, k, path_List_predict,\n",
    "                             image_width, image_height):\n",
    "\n",
    "        path_list = path_List_predict\n",
    "        countImage_Predict = [0, 0, 0, 0, 0, 0, 0, 0, 0, 0]\n",
    "        training_data = []\n",
    "        # Iterate the directory\n",
    "        for label in range(len(path_list)-1):\n",
    "            print(path_list[label])\n",
    "            # Iterate all the image within the directory, f -> the file name\n",
    "            for f in tqdm(os.listdir(path_list[label])):\n",
    "                # Get the full path to the image\n",
    "                path = os.path.join(path_list[label], f)\n",
    "                if \"png\" in path:\n",
    "                    # Read images in the given path and turn into nparray.\n",
    "                    # Convert the iimage to gray scale (optional)\n",
    "                    img = cv2.imread(path, cv2.IMREAD_GRAYSCALE)\n",
    "                    img = cv2.resize(img, (image_width, image_height))\n",
    "                    training_data.append([path, np.array(img)])\n",
    "                    # Count the number of image\n",
    "                    for i in range(k):\n",
    "                        if label == i:\n",
    "                            countImage_Predict[i] += 1\n",
    "\n",
    "        np.random.shuffle(training_data)\n",
    "        np.save(path_list[-1], training_data)\n",
    "        for i in range(len(path_list)-1):\n",
    "            print(path_List_predict[i], \":\", countImage_Predict[i])"
   ]
  },
  {
   "cell_type": "code",
   "execution_count": 4,
   "metadata": {},
   "outputs": [],
   "source": [
    "def Build_Data(Training, Predict, k, path_list, image_width, image_height):\n",
    "    Class = EISDataImport()\n",
    "    if Training is True:\n",
    "        Class.DataImporter_Training(k, path_list, image_width, image_height)\n",
    "    if Predict is True:\n",
    "        Class.DataImporter_Predict(k, path_list, image_width, image_height)"
   ]
  },
  {
   "cell_type": "markdown",
   "metadata": {},
   "source": [
    "# Model Training\n",
    "Use the data to train the neural network model."
   ]
  },
  {
   "cell_type": "code",
   "execution_count": 5,
   "metadata": {
    "scrolled": false
   },
   "outputs": [
    {
     "name": "stdout",
     "output_type": "stream",
     "text": [
      "Nyquist/Noisy\n"
     ]
    },
    {
     "name": "stderr",
     "output_type": "stream",
     "text": [
      "100%|███████████████████████████████████████████████████████████████████████████████| 199/199 [00:01<00:00, 130.43it/s]\n"
     ]
    },
    {
     "name": "stdout",
     "output_type": "stream",
     "text": [
      "Nyquist/SingleHump\n"
     ]
    },
    {
     "name": "stderr",
     "output_type": "stream",
     "text": [
      "100%|███████████████████████████████████████████████████████████████████████████████| 200/200 [00:01<00:00, 137.99it/s]\n"
     ]
    },
    {
     "name": "stdout",
     "output_type": "stream",
     "text": [
      "Nyquist/TwoHumps\n"
     ]
    },
    {
     "name": "stderr",
     "output_type": "stream",
     "text": [
      "100%|███████████████████████████████████████████████████████████████████████████████| 199/199 [00:01<00:00, 149.37it/s]\n"
     ]
    },
    {
     "name": "stdout",
     "output_type": "stream",
     "text": [
      "Nyquist/Tail\n"
     ]
    },
    {
     "name": "stderr",
     "output_type": "stream",
     "text": [
      "100%|███████████████████████████████████████████████████████████████████████████████| 197/197 [00:01<00:00, 144.41it/s]\n"
     ]
    },
    {
     "name": "stdout",
     "output_type": "stream",
     "text": [
      "Nyquist/Noisy : 198\n",
      "Nyquist/SingleHump : 199\n",
      "Nyquist/TwoHumps : 199\n",
      "Nyquist/Tail : 196\n"
     ]
    }
   ],
   "source": [
    "# Import image for training\n",
    "Build_Data(True, False, 4, TRAINING, image_width, image_height)"
   ]
  },
  {
   "cell_type": "markdown",
   "metadata": {},
   "source": [
    "The images importing in the program will be transformed into array and stored in a \".npy\" file."
   ]
  },
  {
   "cell_type": "code",
   "execution_count": 6,
   "metadata": {},
   "outputs": [],
   "source": [
    "def load_array_data(np_ndarray_file): \n",
    "    array_data = np.load(np_ndarray_file, allow_pickle=True)\n",
    "    return array_data"
   ]
  },
  {
   "cell_type": "code",
   "execution_count": 7,
   "metadata": {},
   "outputs": [],
   "source": [
    "# Load the data from the \".npy\" file.\n",
    "training_data = load_array_data(TRAINING[-1])"
   ]
  },
  {
   "cell_type": "markdown",
   "metadata": {},
   "source": [
    "### Data Status Check"
   ]
  },
  {
   "cell_type": "code",
   "execution_count": 12,
   "metadata": {},
   "outputs": [],
   "source": [
    "# Check the informaiton for image in array form\n",
    "def data_information(array_data):\n",
    "    print(\"Type of input_data:\", type(array_data))\n",
    "    print(\"Size of imput_data:\", len(array_data))\n",
    "    print(\"Size of image(after rescale):\", array_data[0][1].shape[1],\n",
    "          \"x\", array_data[0][1].shape[0])"
   ]
  },
  {
   "cell_type": "code",
   "execution_count": 13,
   "metadata": {},
   "outputs": [
    {
     "name": "stdout",
     "output_type": "stream",
     "text": [
      "Type of input_data: <class 'numpy.ndarray'>\n",
      "Size of imput_data: 792\n",
      "Size of image(after rescale): 800 x 536\n"
     ]
    }
   ],
   "source": [
    "data_information(training_data)"
   ]
  },
  {
   "cell_type": "code",
   "execution_count": 14,
   "metadata": {},
   "outputs": [],
   "source": [
    "# Plot the image with array data to check if it's successfully loaded into the program\n",
    "def ploting_data(input_data, i): # i is for arbitrarily assigning the image to plot\n",
    "    print(input_data[i][0])  # Print out the file name (path).\n",
    "    plt.imshow(input_data[i][1])\n",
    "    plt.show()"
   ]
  },
  {
   "cell_type": "code",
   "execution_count": 15,
   "metadata": {
    "scrolled": false
   },
   "outputs": [
    {
     "name": "stdout",
     "output_type": "stream",
     "text": [
      "Nyquist/TwoHumps\\200315-1852_sim_spread.png\n"
     ]
    },
    {
     "data": {
      "image/png": "[encoded data removed]",
      "text/plain": [
       "<Figure size 432x288 with 1 Axes>"
      ]
     },
     "metadata": {
      "needs_background": "light"
     },
     "output_type": "display_data"
    }
   ],
   "source": [
    "ploting_data(training_data, 0)"
   ]
  },
  {
   "cell_type": "markdown",
   "metadata": {},
   "source": [
    "### Convolutional Neural Network"
   ]
  },
  {
   "cell_type": "code",
   "execution_count": 16,
   "metadata": {},
   "outputs": [],
   "source": [
    "# Initiate the parameter for neural network\n",
    "input_size = 1\n",
    "firstHidden = 8\n",
    "kernel_size = 5\n",
    "output_size = 4"
   ]
  },
  {
   "cell_type": "code",
   "execution_count": 17,
   "metadata": {},
   "outputs": [],
   "source": [
    "class Net(nn.Module):\n",
    "    \"\"\"Convolutional Neural Network Model\"\"\"\n",
    "    def __init__(self, input_size, image_width, image_height,\n",
    "                 firstHidden, kernel_size, output_size):\n",
    "        super(Net, self).__init__()\n",
    "        self.conv1 = nn.Conv2d(input_size, firstHidden, kernel_size)\n",
    "        self.conv2 = nn.Conv2d(firstHidden, firstHidden*2, kernel_size)\n",
    "        self.conv3 = nn.Conv2d(firstHidden*2, firstHidden*4, kernel_size)\n",
    "        self.conv4 = nn.Conv2d(firstHidden*4, firstHidden*8, kernel_size)\n",
    "        #\n",
    "        x = torch.randn(image_height, image_width).view(-1, 1, image_height,\n",
    "                                                        image_width)\n",
    "        conv_to_linear = self.last_conv_neuron(x)\n",
    "\n",
    "        self.fc1 = nn.Linear(conv_to_linear, 64)\n",
    "        self.fc2 = nn.Linear(64, output_size)\n",
    "\n",
    "    def last_conv_neuron(self, x):\n",
    "        x = self.convs(x)\n",
    "        conv_to_linear = x[0].shape[0]*x[0].shape[1]*x[0].shape[2]\n",
    "        return conv_to_linear\n",
    "\n",
    "    def convs(self, x):\n",
    "        x = F.max_pool2d(F.relu(self.conv1(x)), (2, 2))\n",
    "        x = F.max_pool2d(F.relu(self.conv2(x)), (2, 2))\n",
    "        x = F.max_pool2d(F.relu(self.conv3(x)), (2, 2))\n",
    "        x = F.max_pool2d(F.relu(self.conv4(x)), (2, 2))\n",
    "        return x\n",
    "\n",
    "    def forward(self, x):\n",
    "        x = self.convs(x)\n",
    "        conv_to_linear = x[0].shape[0]*x[0].shape[1]*x[0].shape[2]\n",
    "        # Flatten the data\n",
    "        xF = x.view(-1, conv_to_linear)\n",
    "        # Put into the first fully connected layer\n",
    "        output = F.relu(self.fc1(xF))\n",
    "        output = self.fc2(output)\n",
    "        return F.softmax(output, dim=1)"
   ]
  },
  {
   "cell_type": "code",
   "execution_count": 19,
   "metadata": {},
   "outputs": [
    {
     "data": {
      "text/plain": [
       "Net(\n",
       "  (conv1): Conv2d(1, 8, kernel_size=(5, 5), stride=(1, 1))\n",
       "  (conv2): Conv2d(8, 16, kernel_size=(5, 5), stride=(1, 1))\n",
       "  (conv3): Conv2d(16, 32, kernel_size=(5, 5), stride=(1, 1))\n",
       "  (conv4): Conv2d(32, 64, kernel_size=(5, 5), stride=(1, 1))\n",
       "  (fc1): Linear(in_features=85376, out_features=64, bias=True)\n",
       "  (fc2): Linear(in_features=64, out_features=4, bias=True)\n",
       ")"
      ]
     },
     "execution_count": 19,
     "metadata": {},
     "output_type": "execute_result"
    }
   ],
   "source": [
    "# Show the architecture for the CNN\n",
    "net = Net(input_size, image_width, image_height,\n",
    "          firstHidden, kernel_size, output_size)\n",
    "net"
   ]
  },
  {
   "cell_type": "markdown",
   "metadata": {},
   "source": [
    "#### Data Type Transform\n",
    "Because pytorch package usually deal with the data in tensor form. We have to transform our array data into tensor data.\n",
    "* image: imagesfrom the user which have already been transformed into array form. \n",
    "* type: Labels put with the images by using np.eye matrix. (Also the array form)"
   ]
  },
  {
   "cell_type": "code",
   "execution_count": 20,
   "metadata": {},
   "outputs": [],
   "source": [
    "def image_to_tensor(array_data, image_width, image_height):\n",
    "    tensor_image = torch.Tensor([i[1] for i in array_data]\n",
    "                                ).view(-1, image_height, image_width)\n",
    "    return tensor_image"
   ]
  },
  {
   "cell_type": "code",
   "execution_count": 21,
   "metadata": {},
   "outputs": [],
   "source": [
    "training_image_tensor = image_to_tensor(training_data, image_width, image_height)"
   ]
  },
  {
   "cell_type": "code",
   "execution_count": 22,
   "metadata": {},
   "outputs": [],
   "source": [
    "def type_to_tensor(array_data):\n",
    "    tensor_type = torch.Tensor([i[2] for i in array_data])\n",
    "    return tensor_type"
   ]
  },
  {
   "cell_type": "code",
   "execution_count": 23,
   "metadata": {},
   "outputs": [],
   "source": [
    "training_type_tensor = type_to_tensor(training_data)"
   ]
  },
  {
   "cell_type": "markdown",
   "metadata": {},
   "source": [
    "#### Data Sepatation\n",
    "Because we hope to figure the accuracy of the model, we need to separate the data into two part(training, testing)\n",
    "* training_sample_image\n",
    "* training_sample_type\n",
    "* testing_sample_image\n",
    "* testing_sample_type"
   ]
  },
  {
   "cell_type": "code",
   "execution_count": 25,
   "metadata": {},
   "outputs": [],
   "source": [
    "def data_separation(tensor_data, ratio_of_testing, TRAIN, TEST):\n",
    "    VAL_PCT = ratio_of_testing\n",
    "    val_size = int(len(tensor_data)*VAL_PCT)\n",
    "\n",
    "    if TRAIN is True:\n",
    "        training_sample = tensor_data[:-val_size]\n",
    "        print(\"Training Samples:\", len(training_sample))\n",
    "        return training_sample\n",
    "    \n",
    "    if TEST is True:\n",
    "        testing_sample = tensor_data[-val_size:]\n",
    "        print(\"Testing Samples:\", len(testing_sample))\n",
    "        return testing_sample"
   ]
  },
  {
   "cell_type": "code",
   "execution_count": 26,
   "metadata": {},
   "outputs": [
    {
     "name": "stdout",
     "output_type": "stream",
     "text": [
      "Training Samples: 634\n"
     ]
    }
   ],
   "source": [
    "training_sample_image = data_separation(training_image_tensor, 0.2, True, False)"
   ]
  },
  {
   "cell_type": "code",
   "execution_count": 27,
   "metadata": {},
   "outputs": [
    {
     "name": "stdout",
     "output_type": "stream",
     "text": [
      "Training Samples: 634\n"
     ]
    }
   ],
   "source": [
    "training_sample_type = data_separation(training_type_tensor, 0.2, True, False)"
   ]
  },
  {
   "cell_type": "code",
   "execution_count": 28,
   "metadata": {},
   "outputs": [
    {
     "name": "stdout",
     "output_type": "stream",
     "text": [
      "Testing Samples: 158\n"
     ]
    }
   ],
   "source": [
    "testing_sample_image = data_separation(training_image_tensor, 0.2, False, True)"
   ]
  },
  {
   "cell_type": "code",
   "execution_count": 29,
   "metadata": {},
   "outputs": [
    {
     "name": "stdout",
     "output_type": "stream",
     "text": [
      "Testing Samples: 158\n"
     ]
    }
   ],
   "source": [
    "testing_sample_type = data_separation(training_type_tensor, 0.2, False, True)"
   ]
  },
  {
   "cell_type": "markdown",
   "metadata": {},
   "source": [
    "#### Learning and Calculating the Accuracy"
   ]
  },
  {
   "cell_type": "code",
   "execution_count": 35,
   "metadata": {},
   "outputs": [],
   "source": [
    "# Initiate the parameter for learning function\n",
    "learning_rate = 0.001\n",
    "BATCH_SIZE = 10\n",
    "EPOCHS = 1"
   ]
  },
  {
   "cell_type": "code",
   "execution_count": 36,
   "metadata": {},
   "outputs": [],
   "source": [
    "def learning(training_sample_image, training_sample_type, input_size,\n",
    "             image_width, image_height, firstHidden, kernel_size, output_size,\n",
    "             learning_rate, BATCH_SIZE, EPOCHS):\n",
    "        \n",
    "    optimizer = optim.Adam(Net(input_size, image_width, image_height,\n",
    "                               firstHidden, kernel_size, output_size\n",
    "                               ).parameters(), lr=learning_rate)\n",
    "    loss_function = nn.MSELoss()\n",
    "\n",
    "    for epoch in range(EPOCHS):\n",
    "        for i in tqdm(range(0, len(training_sample_image), BATCH_SIZE)):\n",
    "            batch_image = training_sample_image[i:i+BATCH_SIZE\n",
    "                                                ].view(-1, 1, image_height,\n",
    "                                                       image_width)\n",
    "            batch_type = training_sample_type[i:i+BATCH_SIZE]\n",
    "\n",
    "            Net(input_size, image_width, image_height, firstHidden,\n",
    "                kernel_size, output_size).zero_grad()\n",
    "            outputs = Net(input_size, image_width, image_height, firstHidden,\n",
    "                          kernel_size, output_size)(batch_image)\n",
    "            loss = loss_function(outputs, batch_type)\n",
    "            loss.backward()\n",
    "            optimizer.step()\n",
    "\n",
    "        print(loss)"
   ]
  },
  {
   "cell_type": "code",
   "execution_count": 37,
   "metadata": {},
   "outputs": [
    {
     "name": "stderr",
     "output_type": "stream",
     "text": [
      "100%|██████████████████████████████████████████████████████████████████████████████████| 64/64 [03:23<00:00,  3.18s/it]\n"
     ]
    },
    {
     "name": "stdout",
     "output_type": "stream",
     "text": [
      "tensor(0.3726, grad_fn=<MseLossBackward>)\n"
     ]
    }
   ],
   "source": [
    "learning(training_sample_image, training_sample_type, input_size,\n",
    "             image_width, image_height, firstHidden, kernel_size, output_size,\n",
    "             learning_rate, BATCH_SIZE, EPOCHS)"
   ]
  },
  {
   "cell_type": "code",
   "execution_count": 38,
   "metadata": {},
   "outputs": [],
   "source": [
    "def accuracy(testing_sample_image, testing_sample_type, input_size,\n",
    "             image_width, image_height, firstHidden, kernel_size,\n",
    "             output_size):\n",
    "    correct = 0\n",
    "    total = 0\n",
    "    with torch.no_grad():\n",
    "        for i in tqdm(range(len(testing_sample_image))):\n",
    "            real_type = torch.argmax(testing_sample_type[i])\n",
    "            net_out_train = Net(input_size, image_width, image_height,\n",
    "                                firstHidden, kernel_size, output_size\n",
    "                                )(testing_sample_image[i].view(-1, 1,\n",
    "                                                               image_height,\n",
    "                                                               image_width\n",
    "                                                               ))[0]\n",
    "            predicted_type = torch.argmax(net_out_train)\n",
    "\n",
    "            if predicted_type == real_type:\n",
    "                correct += 1\n",
    "            total += 1\n",
    "\n",
    "    predicting_accuracy = round(correct/total, 3)\n",
    "    print(\"Accuracy:\", predicting_accuracy)\n",
    "    return predicting_accuracy"
   ]
  },
  {
   "cell_type": "code",
   "execution_count": 39,
   "metadata": {},
   "outputs": [
    {
     "name": "stderr",
     "output_type": "stream",
     "text": [
      "100%|████████████████████████████████████████████████████████████████████████████████| 158/158 [01:33<00:00,  1.70it/s]\n"
     ]
    },
    {
     "name": "stdout",
     "output_type": "stream",
     "text": [
      "Accuracy: 0.241\n"
     ]
    }
   ],
   "source": [
    "Acc = accuracy(testing_sample_image, testing_sample_type, input_size,\n",
    "              image_width, image_height, firstHidden, kernel_size,\n",
    "              output_size)"
   ]
  },
  {
   "cell_type": "markdown",
   "metadata": {},
   "source": [
    "# Model Test\n",
    "Use the random data to test the neural network model."
   ]
  },
  {
   "cell_type": "code",
   "execution_count": 40,
   "metadata": {},
   "outputs": [
    {
     "name": "stdout",
     "output_type": "stream",
     "text": [
      "Nyquist/Random\n"
     ]
    },
    {
     "name": "stderr",
     "output_type": "stream",
     "text": [
      "100%|███████████████████████████████████████████████████████████████████████████████| 141/141 [00:01<00:00, 140.51it/s]\n"
     ]
    },
    {
     "name": "stdout",
     "output_type": "stream",
     "text": [
      "Nyquist/Random : 140\n"
     ]
    }
   ],
   "source": [
    "# Import image for test\n",
    "Build_Data(True, False, 1, PREDICT, image_width, image_height)"
   ]
  },
  {
   "cell_type": "code",
   "execution_count": 41,
   "metadata": {},
   "outputs": [],
   "source": [
    "testing_data = load_array_data(PREDICT[-1])"
   ]
  },
  {
   "cell_type": "code",
   "execution_count": 42,
   "metadata": {},
   "outputs": [
    {
     "name": "stdout",
     "output_type": "stream",
     "text": [
      "Type of input_data: <class 'numpy.ndarray'>\n",
      "Size of imput_data: 140\n",
      "Size of image(after rescale): 800 x 536\n"
     ]
    }
   ],
   "source": [
    "data_information(testing_data)"
   ]
  },
  {
   "cell_type": "code",
   "execution_count": 43,
   "metadata": {},
   "outputs": [
    {
     "name": "stdout",
     "output_type": "stream",
     "text": [
      "Nyquist/Random\\200315-0138_randles_simp.png\n"
     ]
    },
    {
     "data": {
      "image/png": "[encoded data removed]",
      "text/plain": [
       "<Figure size 432x288 with 1 Axes>"
      ]
     },
     "metadata": {
      "needs_background": "light"
     },
     "output_type": "display_data"
    }
   ],
   "source": [
    "ploting_data(testing_data, 1)"
   ]
  },
  {
   "cell_type": "code",
   "execution_count": 44,
   "metadata": {},
   "outputs": [],
   "source": [
    "testing_image_tensor = image_to_tensor(testing_data, image_width, image_height)"
   ]
  },
  {
   "cell_type": "code",
   "execution_count": 45,
   "metadata": {},
   "outputs": [],
   "source": [
    "testing_type_tensor = type_to_tensor(testing_data)"
   ]
  },
  {
   "cell_type": "code",
   "execution_count": 74,
   "metadata": {},
   "outputs": [],
   "source": [
    "def type_prediction(k, path_List_training, tensor_data, array_data,\n",
    "                    input_size, image_width, image_height, firstHidden,\n",
    "                    kernel_size, output_size, detailed_information):\n",
    "    \n",
    "    countImage_predicted_type = [0, 0, 0, 0, 0, 0, 0]\n",
    "    for i in range(len(tensor_data)):\n",
    "        net_out_predict = Net(input_size, image_width, image_height,\n",
    "                              firstHidden, kernel_size, output_size\n",
    "                              )(tensor_data[i].view(-1, 1, image_height,\n",
    "                                                    image_width))[0]\n",
    "        predicted_type = torch.argmax(net_out_predict)\n",
    "        for Type in range(k):\n",
    "            if predicted_type == Type:\n",
    "                countImage_predicted_type[Type] += 1\n",
    "                # Print out the detailed information.\n",
    "                if i < 10: # only print out the detailed information for the first 10 images                    \n",
    "                    if detailed_information is True:\n",
    "                        print(\"Type Prediction:\", path_List_training[Type])\n",
    "                        print(\"  Path and File Name:\", array_data[i][0])\n",
    "                        #print(\"Image No.\", i+1, predicted_type, )\n",
    "                        #plt.imshow(array_data[i][1])\n",
    "                        #plt.show()                    \n",
    "                        print()\n",
    "\n",
    "    for i in range(len(path_List_training)-1):\n",
    "        print(path_List_training[i], \":\", countImage_predicted_type[i])\n"
   ]
  },
  {
   "cell_type": "code",
   "execution_count": 75,
   "metadata": {},
   "outputs": [
    {
     "name": "stdout",
     "output_type": "stream",
     "text": [
      "Type Prediction: Nyquist/TwoHumps\n",
      "  Path and File Name: Nyquist/Random\\200315-0129_randles_simp.png\n",
      "\n",
      "Type Prediction: Nyquist/TwoHumps\n",
      "  Path and File Name: Nyquist/Random\\200315-0138_randles_simp.png\n",
      "\n",
      "Type Prediction: Nyquist/SingleHump\n",
      "  Path and File Name: Nyquist/Random\\200315-0350_sim_spread.png\n",
      "\n",
      "Type Prediction: Nyquist/Noisy\n",
      "  Path and File Name: Nyquist/Random\\200315-0090_sim_one.png\n",
      "\n",
      "Type Prediction: Nyquist/SingleHump\n",
      "  Path and File Name: Nyquist/Random\\200315-0114_randles_simp.png\n",
      "\n",
      "Type Prediction: Nyquist/SingleHump\n",
      "  Path and File Name: Nyquist/Random\\200315-0364_sim_spread.png\n",
      "\n",
      "Type Prediction: Nyquist/Noisy\n",
      "  Path and File Name: Nyquist/Random\\200315-0103_sim_one.png\n",
      "\n",
      "Type Prediction: Nyquist/Tail\n",
      "  Path and File Name: Nyquist/Random\\200315-0390_sim_spread.png\n",
      "\n",
      "Type Prediction: Nyquist/SingleHump\n",
      "  Path and File Name: Nyquist/Random\\200315-0092_sim_one.png\n",
      "\n",
      "Type Prediction: Nyquist/SingleHump\n",
      "  Path and File Name: Nyquist/Random\\200315-0113_sim_one.png\n",
      "\n",
      "Nyquist/Noisy : 30\n",
      "Nyquist/SingleHump : 36\n",
      "Nyquist/TwoHumps : 34\n",
      "Nyquist/Tail : 40\n"
     ]
    }
   ],
   "source": [
    "type_prediction(4, TRAINING, testing_image_tensor, testing_data,\n",
    "                    input_size, image_width, image_height, firstHidden,\n",
    "                    kernel_size, output_size, True)"
   ]
  },
  {
   "cell_type": "code",
   "execution_count": null,
   "metadata": {},
   "outputs": [],
   "source": []
  }
 ],
 "metadata": {
  "kernelspec": {
   "display_name": "Python 3",
   "language": "python",
   "name": "python3"
  },
  "language_info": {
   "codemirror_mode": {
    "name": "ipython",
    "version": 3
   },
   "file_extension": ".py",
   "mimetype": "text/x-python",
   "name": "python",
   "nbconvert_exporter": "python",
   "pygments_lexer": "ipython3",
   "version": "3.7.4"
  }
 },
 "nbformat": 4,
 "nbformat_minor": 2
}
