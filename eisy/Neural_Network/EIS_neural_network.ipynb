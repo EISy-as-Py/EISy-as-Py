{
 "cells": [
  {
   "cell_type": "markdown",
   "metadata": {},
   "source": [
    "### Import Necessary Package"
   ]
  },
  {
   "cell_type": "code",
   "execution_count": 2,
   "metadata": {},
   "outputs": [],
   "source": [
    "import numpy as np\n",
    "import matplotlib.pyplot as plt\n",
    "import skimage\n",
    "#from scipy.misc import imread\n",
    "from IPython import display\n",
    "from PIL import Image\n",
    "from skimage.transform import rescale\n",
    "%matplotlib inline"
   ]
  },
  {
   "cell_type": "code",
   "execution_count": 3,
   "metadata": {},
   "outputs": [],
   "source": [
    "import os\n",
    "import cv2\n",
    "from tqdm import tqdm"
   ]
  },
  {
   "cell_type": "code",
   "execution_count": 4,
   "metadata": {},
   "outputs": [],
   "source": [
    "import torch\n",
    "import torch.nn as nn\n",
    "import torch.nn.functional as F\n",
    "import torch.optim as optim\n",
    "import torchvision\n",
    "from torchvision import transforms, datasets\n",
    "from torch.utils.data import DataLoader"
   ]
  },
  {
   "cell_type": "markdown",
   "metadata": {},
   "source": [
    "### Data Pre-Processing\n",
    "\n",
    "Get image from the directory."
   ]
  },
  {
   "cell_type": "code",
   "execution_count": 23,
   "metadata": {
    "scrolled": false
   },
   "outputs": [
    {
     "name": "stdout",
     "output_type": "stream",
     "text": [
      "Nyquist/Noisy\n"
     ]
    },
    {
     "name": "stderr",
     "output_type": "stream",
     "text": [
      "100%|████████████████████████████████████████████████████████████████████████████████| 199/199 [00:02<00:00, 85.42it/s]\n"
     ]
    },
    {
     "name": "stdout",
     "output_type": "stream",
     "text": [
      "Nyquist/SingleHump\n"
     ]
    },
    {
     "name": "stderr",
     "output_type": "stream",
     "text": [
      "100%|████████████████████████████████████████████████████████████████████████████████| 200/200 [00:02<00:00, 85.18it/s]\n"
     ]
    },
    {
     "name": "stdout",
     "output_type": "stream",
     "text": [
      "Nyquist/TwoHumps\n"
     ]
    },
    {
     "name": "stderr",
     "output_type": "stream",
     "text": [
      "100%|████████████████████████████████████████████████████████████████████████████████| 199/199 [00:02<00:00, 91.31it/s]\n"
     ]
    },
    {
     "name": "stdout",
     "output_type": "stream",
     "text": [
      "Nyquist/Tail\n"
     ]
    },
    {
     "name": "stderr",
     "output_type": "stream",
     "text": [
      "100%|████████████████████████████████████████████████████████████████████████████████| 197/197 [00:02<00:00, 81.65it/s]\n"
     ]
    },
    {
     "name": "stdout",
     "output_type": "stream",
     "text": [
      "Noisy: 198\n",
      "SingleHump: 199\n",
      "TwoHumps: 199\n",
      "Tail: 196\n"
     ]
    }
   ],
   "source": [
    "REBUILD_DATA = True\n",
    "\n",
    "class EISType():\n",
    "    \n",
    "    NS = \"Nyquist/Noisy\" # Determine the number of type and then give the directory of each type of image\n",
    "    SH = \"Nyquist/SingleHump\"\n",
    "    TH = \"Nyquist/TwoHumps\"\n",
    "    TL = \"Nyquist/Tail\"\n",
    "    LABELS = {NS:0, SH:1, TH:2, TL:3}\n",
    "    training_data = []\n",
    "    nscount = 0\n",
    "    shcount = 0\n",
    "    thcount = 0\n",
    "    tlcount = 0\n",
    "    \n",
    "    def make_training_data(self):\n",
    "        for label in self.LABELS: #iterate the directory\n",
    "            print(label)\n",
    "            for f in tqdm(os.listdir(label)): # iterate all the image within the directory, f -> the file name               \n",
    "                path = os.path.join(label, f) # get the full path to the image\n",
    "                if \"png\" in path:                    \n",
    "                    img = cv2.imread(path, cv2.IMREAD_GRAYSCALE) # convert the iimage to gray scale (optional)\n",
    "                    img = cv2.resize(img, (800, 536))\n",
    "                    self.training_data.append([path, np.array(img), np.eye(4)[self.LABELS[label]]])                 \n",
    "\n",
    "                    if label == self.NS:\n",
    "                        self.nscount += 1\n",
    "                    elif label == self.SH:\n",
    "                        self.shcount += 1\n",
    "                    elif label == self.TH:\n",
    "                        self.thcount += 1\n",
    "                    elif label == self.TL:\n",
    "                        self.tlcount += 1    \n",
    "\n",
    "        np.random.shuffle(self.training_data)\n",
    "        np.save(\"eis_training_data.npy\", self.training_data)\n",
    "        print(\"Noisy:\", self.nscount)\n",
    "        print(\"SingleHump:\", self.shcount)\n",
    "        print(\"TwoHumps:\", self.thcount)\n",
    "        print(\"Tail:\", self.tlcount)\n",
    "\n",
    "if REBUILD_DATA:\n",
    "    Type = EISType()\n",
    "    Type.make_training_data()\n",
    "    \n"
   ]
  },
  {
   "cell_type": "markdown",
   "metadata": {},
   "source": [
    "*Load the data to check if all the images have been loaded into the program.*"
   ]
  },
  {
   "cell_type": "code",
   "execution_count": 24,
   "metadata": {},
   "outputs": [],
   "source": [
    "training_data = np.load(\"eis_training_data.npy\", allow_pickle = True)"
   ]
  },
  {
   "cell_type": "code",
   "execution_count": 25,
   "metadata": {},
   "outputs": [
    {
     "name": "stdout",
     "output_type": "stream",
     "text": [
      "Size of training_data: 792\n",
      "Size of image: 800 x 536\n"
     ]
    }
   ],
   "source": [
    "print(\"Size of training_data:\", len(training_data))\n",
    "print(\"Size of image:\", training_data[1][1].shape[1], \"x\" ,training_data[1][1].shape[0])"
   ]
  },
  {
   "cell_type": "code",
   "execution_count": 69,
   "metadata": {
    "scrolled": true
   },
   "outputs": [
    {
     "name": "stdout",
     "output_type": "stream",
     "text": [
      "Nyquist/Noisy\\200315-1338_sim_spread-True.png\n"
     ]
    },
    {
     "data": {
      "image/png": "[encoded data removed]",
      "text/plain": [
       "<Figure size 432x288 with 1 Axes>"
      ]
     },
     "metadata": {
      "needs_background": "light"
     },
     "output_type": "display_data"
    }
   ],
   "source": [
    "k = 14 #\n",
    "print(training_data[k][0])\n",
    "plt.imshow(training_data[k][1])\n",
    "plt.show()"
   ]
  },
  {
   "cell_type": "markdown",
   "metadata": {},
   "source": [
    "### CNN Model"
   ]
  },
  {
   "cell_type": "code",
   "execution_count": 27,
   "metadata": {},
   "outputs": [],
   "source": [
    "class Net(nn.Module):\n",
    "    \n",
    "    def __init__(self, input_size, hidden_size, kernel_size, output_size):\n",
    "        super(Net, self).__init__()\n",
    "        self.conv1 = nn.Conv2d(input_size, hidden_size, kernel_size) \n",
    "        self.conv2 = nn.Conv2d(hidden_size, hidden_size*2, kernel_size)\n",
    "        self.conv3 = nn.Conv2d(hidden_size*2, hidden_size*4, kernel_size)\n",
    "        self.conv4 = nn.Conv2d(hidden_size*4, hidden_size*8, kernel_size)\n",
    "        \n",
    "        self.fc1 = nn.Linear(85376, 64) \n",
    "        self.fc2 = nn.Linear(64, output_size)\n",
    "    \n",
    "    def forward(self, x):\n",
    "        x = F.max_pool2d(F.relu(self.conv1(x)), (2,2))\n",
    "        x = F.max_pool2d(F.relu(self.conv2(x)), (2,2))\n",
    "        x = F.max_pool2d(F.relu(self.conv3(x)), (2,2))\n",
    "        x = F.max_pool2d(F.relu(self.conv4(x)), (2,2))\n",
    "        \n",
    "        xF = x.view(-1, 64 * 29 * 46 ) # flatten\n",
    "        output = F.relu(self.fc1(xF)) # put into the first fully connected layer\n",
    "        output = self.fc2(output)\n",
    "        \n",
    "        return F.softmax(output, dim=1)"
   ]
  },
  {
   "cell_type": "markdown",
   "metadata": {},
   "source": [
    "<font color='red'>**Try to use sigmoid function rather than hte ReLU at the last linear layer.** </font>"
   ]
  },
  {
   "cell_type": "code",
   "execution_count": 28,
   "metadata": {
    "scrolled": true
   },
   "outputs": [
    {
     "name": "stdout",
     "output_type": "stream",
     "text": [
      "Net(\n",
      "  (conv1): Conv2d(1, 8, kernel_size=(5, 5), stride=(1, 1))\n",
      "  (conv2): Conv2d(8, 16, kernel_size=(5, 5), stride=(1, 1))\n",
      "  (conv3): Conv2d(16, 32, kernel_size=(5, 5), stride=(1, 1))\n",
      "  (conv4): Conv2d(32, 64, kernel_size=(5, 5), stride=(1, 1))\n",
      "  (fc1): Linear(in_features=85376, out_features=64, bias=True)\n",
      "  (fc2): Linear(in_features=64, out_features=4, bias=True)\n",
      ")\n"
     ]
    }
   ],
   "source": [
    "net = Net(1, 8, 5, 4)\n",
    "print(net)"
   ]
  },
  {
   "cell_type": "markdown",
   "metadata": {},
   "source": [
    "### Separate the training data and testing data"
   ]
  },
  {
   "cell_type": "code",
   "execution_count": 29,
   "metadata": {},
   "outputs": [
    {
     "name": "stdout",
     "output_type": "stream",
     "text": [
      "158\n"
     ]
    }
   ],
   "source": [
    "X = torch.Tensor([i[1] for i in training_data]).view(-1, 536, 800)\n",
    "X = X/255.0\n",
    "y = torch.Tensor([i[2] for i in training_data])\n",
    "\n",
    "VAL_PCT = 0.2 # 20% for Testing\n",
    "val_size = int(len(X)*VAL_PCT)\n",
    "print(val_size)"
   ]
  },
  {
   "cell_type": "code",
   "execution_count": 30,
   "metadata": {},
   "outputs": [
    {
     "name": "stdout",
     "output_type": "stream",
     "text": [
      "Training Sample: 634\n",
      "Testing Sample: 158\n"
     ]
    }
   ],
   "source": [
    "train_X = X[:-val_size]\n",
    "train_y = y[:-val_size]\n",
    "\n",
    "test_X = X[-val_size:]\n",
    "test_y = y[-val_size:]\n",
    "\n",
    "print(\"Training Sample:\", len(train_X))\n",
    "print(\"Testing Sample:\", len(test_X))"
   ]
  },
  {
   "cell_type": "code",
   "execution_count": 31,
   "metadata": {},
   "outputs": [
    {
     "data": {
      "text/plain": [
       "torch.Tensor"
      ]
     },
     "execution_count": 31,
     "metadata": {},
     "output_type": "execute_result"
    }
   ],
   "source": [
    "type(train_X)"
   ]
  },
  {
   "cell_type": "markdown",
   "metadata": {},
   "source": [
    "### Import the Optimizing and Loss Function"
   ]
  },
  {
   "cell_type": "code",
   "execution_count": 32,
   "metadata": {},
   "outputs": [],
   "source": [
    "optimizer = optim.Adam(net.parameters(), lr = 0.001)\n",
    "loss_function = nn.MSELoss()"
   ]
  },
  {
   "cell_type": "code",
   "execution_count": 33,
   "metadata": {
    "scrolled": false
   },
   "outputs": [
    {
     "name": "stderr",
     "output_type": "stream",
     "text": [
      "100%|██████████████████████████████████████████████████████████████████████████████████| 64/64 [03:48<00:00,  3.57s/it]\n"
     ]
    },
    {
     "name": "stdout",
     "output_type": "stream",
     "text": [
      "tensor(0.0003, grad_fn=<MseLossBackward>)\n"
     ]
    }
   ],
   "source": [
    "BATCH_SIZE = 10\n",
    "EPOCHS = 1\n",
    "\n",
    "for epoch in range(EPOCHS):\n",
    "    for i in tqdm(range(0, len(train_X), BATCH_SIZE)):\n",
    "        batch_X = train_X[i:i+BATCH_SIZE].view(-1, 1, 536, 800)\n",
    "        batch_y = train_y[i:i+BATCH_SIZE]\n",
    "        \n",
    "        net.zero_grad()\n",
    "        outputs = net(batch_X)\n",
    "        loss = loss_function(outputs, batch_y)\n",
    "        loss.backward()\n",
    "        optimizer.step()\n",
    "    print(loss)"
   ]
  },
  {
   "cell_type": "code",
   "execution_count": 110,
   "metadata": {
    "scrolled": true
   },
   "outputs": [
    {
     "name": "stderr",
     "output_type": "stream",
     "text": [
      "100%|████████████████████████████████████████████████████████████████████████████████| 158/158 [00:59<00:00,  2.65it/s]\n"
     ]
    },
    {
     "name": "stdout",
     "output_type": "stream",
     "text": [
      "Accuracy: 0.924\n"
     ]
    }
   ],
   "source": [
    "correct = 0\n",
    "total = 0\n",
    "with torch.no_grad():\n",
    "    for i in tqdm(range(len(test_X))):\n",
    "        real_class = torch.argmax(test_y[i])\n",
    "        net_out = net(test_X[i].view(-1, 1, 536, 800))[0]\n",
    "        predicted_class = torch.argmax(net_out)\n",
    "        if predicted_class == real_class:\n",
    "            correct += 1\n",
    "            \n",
    "        total += 1\n",
    "        \n",
    "print(\"Accuracy:\", round(correct/total,3))"
   ]
  },
  {
   "cell_type": "code",
   "execution_count": null,
   "metadata": {},
   "outputs": [],
   "source": []
  },
  {
   "cell_type": "code",
   "execution_count": null,
   "metadata": {},
   "outputs": [],
   "source": [
    "for i in range(len(test_X)):\n",
    "    real_class = torch.argmax(test_y[i])\n",
    "    net_out = net(test_X[i].view(-1, 1, 134, 336))[0]\n",
    "    pre = torch.argmax(net_out)\n",
    "    print(net_out, pre, real_class)"
   ]
  },
  {
   "cell_type": "code",
   "execution_count": null,
   "metadata": {},
   "outputs": [],
   "source": []
  },
  {
   "cell_type": "code",
   "execution_count": null,
   "metadata": {},
   "outputs": [],
   "source": []
  },
  {
   "cell_type": "code",
   "execution_count": null,
   "metadata": {},
   "outputs": [],
   "source": []
  },
  {
   "cell_type": "markdown",
   "metadata": {},
   "source": []
  },
  {
   "cell_type": "code",
   "execution_count": null,
   "metadata": {},
   "outputs": [],
   "source": []
  },
  {
   "cell_type": "code",
   "execution_count": null,
   "metadata": {},
   "outputs": [],
   "source": []
  },
  {
   "cell_type": "code",
   "execution_count": 113,
   "metadata": {},
   "outputs": [
    {
     "name": "stdout",
     "output_type": "stream",
     "text": [
      "Nyquist/Random\n"
     ]
    },
    {
     "name": "stderr",
     "output_type": "stream",
     "text": [
      "100%|████████████████████████████████████████████████████████████████████████████████| 141/141 [00:01<00:00, 83.85it/s]\n"
     ]
    },
    {
     "name": "stdout",
     "output_type": "stream",
     "text": [
      "Random: 140\n"
     ]
    }
   ],
   "source": [
    "REBUILD_DATA = True\n",
    "\n",
    "class EISType():\n",
    "    \n",
    "    RD = \"Nyquist/Random\" # Determine the number of type and then give the directory of each type of image\n",
    "    LABELS = {RD:0}\n",
    "    random_data = []\n",
    "    rdcount = 0\n",
    "        \n",
    "    def make_random_data(self):\n",
    "        for label in self.LABELS: #iterate the directory\n",
    "            print(label)\n",
    "            for f in tqdm(os.listdir(label)): # iterate all the image within the directory, f -> the file name               \n",
    "                path = os.path.join(label, f) # get the full path to the image\n",
    "                fileName = path[15:]\n",
    "                if \"png\" in path:\n",
    "                    img = cv2.imread(path, cv2.IMREAD_GRAYSCALE) # convert the iimage to gray scale (optional)\n",
    "                    img = cv2.resize(img, (800, 536))\n",
    "                    self.random_data.append([np.array(img), fileName])\n",
    "\n",
    "                    if label == self.RD:\n",
    "                        self.rdcount += 1    \n",
    "                \n",
    "        np.random.shuffle(self.random_data)\n",
    "        np.save(\"random_data.npy\", self.random_data)\n",
    "        print(\"Random:\", self.rdcount)\n",
    "\n",
    "if REBUILD_DATA:\n",
    "    Type = EISType()\n",
    "    Type.make_random_data()\n",
    "    \n"
   ]
  },
  {
   "cell_type": "code",
   "execution_count": 114,
   "metadata": {},
   "outputs": [],
   "source": [
    "random_data = np.load(\"random_data.npy\", allow_pickle = True)"
   ]
  },
  {
   "cell_type": "code",
   "execution_count": 115,
   "metadata": {},
   "outputs": [
    {
     "name": "stdout",
     "output_type": "stream",
     "text": [
      "Size of random_data: 140\n",
      "Size of image: 800 x 536\n"
     ]
    }
   ],
   "source": [
    "print(\"Size of random_data:\", len(random_data))\n",
    "print(\"Size of image:\", random_data[1][0].shape[1], \"x\", random_data[1][0].shape[0])"
   ]
  },
  {
   "cell_type": "code",
   "execution_count": 116,
   "metadata": {},
   "outputs": [
    {
     "name": "stdout",
     "output_type": "stream",
     "text": [
      "200315-0095_sim_one.png\n"
     ]
    },
    {
     "data": {
      "image/png": "[encoded data removed]",
      "text/plain": [
       "<Figure size 432x288 with 1 Axes>"
      ]
     },
     "metadata": {
      "needs_background": "light"
     },
     "output_type": "display_data"
    }
   ],
   "source": [
    "k = 1 #\n",
    "plt.imshow(random_data[k][0])\n",
    "print(random_data[k][1])\n",
    "plt.show()"
   ]
  },
  {
   "cell_type": "code",
   "execution_count": 117,
   "metadata": {},
   "outputs": [
    {
     "name": "stdout",
     "output_type": "stream",
     "text": [
      "28\n"
     ]
    }
   ],
   "source": [
    "X = torch.Tensor([i[0] for i in random_data]).view(-1, 536, 800)\n",
    "X = X/255.0\n",
    "\n",
    "VAL_PCT = 0.2 # 20% for Testing\n",
    "val_size = int(len(X)*VAL_PCT)\n",
    "print(val_size)"
   ]
  },
  {
   "cell_type": "code",
   "execution_count": 127,
   "metadata": {
    "scrolled": false
   },
   "outputs": [
    {
     "name": "stdout",
     "output_type": "stream",
     "text": [
      "tensor([[1., 1., 1.,  ..., 1., 1., 1.],\n",
      "        [1., 1., 1.,  ..., 1., 1., 1.],\n",
      "        [1., 1., 1.,  ..., 1., 1., 1.],\n",
      "        ...,\n",
      "        [1., 1., 1.,  ..., 1., 1., 1.],\n",
      "        [1., 1., 1.,  ..., 1., 1., 1.],\n",
      "        [1., 1., 1.,  ..., 1., 1., 1.]])\n",
      "torch.Size([536, 800])\n"
     ]
    }
   ],
   "source": [
    "print(X[1])\n",
    "print(X[1].shape)"
   ]
  },
  {
   "cell_type": "code",
   "execution_count": 132,
   "metadata": {},
   "outputs": [],
   "source": [
    "import termcolor\n",
    "from termcolor import colored"
   ]
  },
  {
   "cell_type": "code",
   "execution_count": 141,
   "metadata": {},
   "outputs": [
    {
     "name": "stdout",
     "output_type": "stream",
     "text": [
      "Noisy Data ALARM!! File Name: 200315-0035_sim_spread-True.png\n",
      "Noisy Data ALARM!! File Name: 200315-0020_sim_one-True.png\n",
      "Noisy Data ALARM!! File Name: 200315-0021_sim_spread-True.png\n",
      "Noisy Data ALARM!! File Name: 200315-0019_sim_spread-True.png\n",
      "Noisy Data ALARM!! File Name: 200315-0027_sim_spread-True.png\n",
      "Noisy Data ALARM!! File Name: 200315-0021_sim_one-True.png\n",
      "Noisy Data ALARM!! File Name: 200315-0036_sim_spread-True.png\n",
      "Noisy Data ALARM!! File Name: 200315-0032_sim_one-True.png\n",
      "Noisy Data ALARM!! File Name: 200315-0024_sim_one-True.png\n",
      "Noisy Data ALARM!! File Name: 200315-0032_sim_spread-True.png\n",
      "Noisy Data ALARM!! File Name: 200315-0028_sim_one-True.png\n",
      "Noisy Data ALARM!! File Name: 200315-0025_sim_one-True.png\n",
      "Noisy Data ALARM!! File Name: 200315-0037_sim_one-True.png\n",
      "Noisy Data ALARM!! File Name: 200315-0028_sim_spread-True.png\n",
      "Noisy Data ALARM!! File Name: 200315-0037_sim_spread-True.png\n",
      "Noisy: 15\n",
      "Single Humps: 38\n",
      "Two Humps: 42\n",
      "Tail: 45\n"
     ]
    }
   ],
   "source": [
    "NScount = 0\n",
    "SHcount = 0\n",
    "THcount = 0\n",
    "TLcount = 0\n",
    "\n",
    "\n",
    "#for i in tqdm(range(len(X))):\n",
    "for i in range(len(X)):\n",
    "    net_out = net(X[i].view(-1, 1, 536, 800))[0]\n",
    "    predicted_type = torch.argmax(net_out)\n",
    "    # print(net_out, \"->\", predicted_type, i)\n",
    "    if predicted_type == 3:\n",
    "        TLcount += 1\n",
    "    elif predicted_type == 1:\n",
    "        SHcount += 1\n",
    "    elif predicted_type == 0:\n",
    "        NScount += 1\n",
    "        print(\"Noisy Data ALARM!! File Name:\", random_data[i][1])\n",
    "    elif predicted_type == 2:\n",
    "        THcount += 1\n",
    "        \n",
    "print(\"Noisy:\", NScount)\n",
    "print(\"Single Humps:\", SHcount)\n",
    "print(\"Two Humps:\", THcount)\n",
    "print(\"Tail:\", TLcount)"
   ]
  }
 ],
 "metadata": {
  "kernelspec": {
   "display_name": "Python 3",
   "language": "python",
   "name": "python3"
  },
  "language_info": {
   "codemirror_mode": {
    "name": "ipython",
    "version": 3
   },
   "file_extension": ".py",
   "mimetype": "text/x-python",
   "name": "python",
   "nbconvert_exporter": "python",
   "pygments_lexer": "ipython3",
   "version": "3.7.4"
  }
 },
 "nbformat": 4,
 "nbformat_minor": 2
}
