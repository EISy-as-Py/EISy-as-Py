{
 "cells": [
  {
   "cell_type": "code",
   "execution_count": 1,
   "metadata": {},
   "outputs": [],
   "source": [
    "import CNN_Model as cnn"
   ]
  },
  {
   "cell_type": "markdown",
   "metadata": {},
   "source": [
    "#### 1. Define the path for labeled training data"
   ]
  },
  {
   "cell_type": "code",
   "execution_count": 2,
   "metadata": {},
   "outputs": [
    {
     "data": {
      "text/plain": [
       "['Nyquist/Noisy',\n",
       " 'Nyquist/SingleHump',\n",
       " 'Nyquist/TwoHumps',\n",
       " 'Nyquist/Tail',\n",
       " 'testing_outputfile.npy']"
      ]
     },
     "execution_count": 2,
     "metadata": {},
     "output_type": "execute_result"
    }
   ],
   "source": [
    "DATASET = ['Nyquist/Noisy', 'Nyquist/SingleHump', 'Nyquist/TwoHumps', 'Nyquist/Tail', 'testing_outputfile.npy']\n",
    "DATASET"
   ]
  },
  {
   "cell_type": "markdown",
   "metadata": {},
   "source": [
    "#### 2. Call the EIS.DataImport class"
   ]
  },
  {
   "cell_type": "code",
   "execution_count": 6,
   "metadata": {},
   "outputs": [],
   "source": [
    "self = cnn.EISDataImport"
   ]
  },
  {
   "cell_type": "markdown",
   "metadata": {},
   "source": [
    "#### 3. Use the Build_Data function to import the data(image)\n",
    "* Define which type of data to import (Training/Predict)\n",
    "* Define how many type of the training data or how many folders/paths of the predicted data\n",
    "* Define the target image size after resize "
   ]
  },
  {
   "cell_type": "code",
   "execution_count": 5,
   "metadata": {},
   "outputs": [
    {
     "name": "stdout",
     "output_type": "stream",
     "text": [
      "Nyquist/Noisy\n"
     ]
    },
    {
     "name": "stderr",
     "output_type": "stream",
     "text": [
      "100%|███████████████████████████████████████████████████████████████████████████████| 199/199 [00:00<00:00, 220.28it/s]\n"
     ]
    },
    {
     "name": "stdout",
     "output_type": "stream",
     "text": [
      "Nyquist/SingleHump\n"
     ]
    },
    {
     "name": "stderr",
     "output_type": "stream",
     "text": [
      "100%|███████████████████████████████████████████████████████████████████████████████| 200/200 [00:01<00:00, 196.20it/s]\n"
     ]
    },
    {
     "name": "stdout",
     "output_type": "stream",
     "text": [
      "Nyquist/TwoHumps\n"
     ]
    },
    {
     "name": "stderr",
     "output_type": "stream",
     "text": [
      "100%|███████████████████████████████████████████████████████████████████████████████| 199/199 [00:01<00:00, 184.47it/s]\n"
     ]
    },
    {
     "name": "stdout",
     "output_type": "stream",
     "text": [
      "Nyquist/Tail\n"
     ]
    },
    {
     "name": "stderr",
     "output_type": "stream",
     "text": [
      "100%|███████████████████████████████████████████████████████████████████████████████| 197/197 [00:01<00:00, 177.31it/s]\n"
     ]
    },
    {
     "name": "stdout",
     "output_type": "stream",
     "text": [
      "Nyquist/Noisy : 198\n",
      "Nyquist/SingleHump : 199\n",
      "Nyquist/TwoHumps : 199\n",
      "Nyquist/Tail : 196\n"
     ]
    }
   ],
   "source": [
    "cnn.Build_Data(True, False, 4, DATASET, 800, 536)"
   ]
  },
  {
   "cell_type": "markdown",
   "metadata": {},
   "source": [
    "#### 4. Load the array-form data from the .npy file"
   ]
  },
  {
   "cell_type": "code",
   "execution_count": 7,
   "metadata": {},
   "outputs": [],
   "source": [
    "training_data = cnn.load_array_data('testing_outputfile.npy')"
   ]
  },
  {
   "cell_type": "markdown",
   "metadata": {},
   "source": [
    "#### 5. Print out the data (image) information"
   ]
  },
  {
   "cell_type": "code",
   "execution_count": 8,
   "metadata": {},
   "outputs": [
    {
     "name": "stdout",
     "output_type": "stream",
     "text": [
      "Type of input_data: <class 'numpy.ndarray'>\n",
      "Size of imput_data: 792\n",
      "Size of image(after rescale): 800 x 536\n"
     ]
    }
   ],
   "source": [
    "cnn.data_information(training_data)"
   ]
  },
  {
   "cell_type": "markdown",
   "metadata": {},
   "source": [
    "#### 6. Check the array-form data\n",
    "* Plot the image to check if it's sucessfully imported the program.\n",
    "* Check the image remain the feature after resize"
   ]
  },
  {
   "cell_type": "code",
   "execution_count": 9,
   "metadata": {},
   "outputs": [
    {
     "name": "stdout",
     "output_type": "stream",
     "text": [
      "Nyquist/TwoHumps\\200315-1902_sim_spread.png\n"
     ]
    },
    {
     "data": {
      "image/png": "[encoded data removed]",
      "text/plain": [
       "<Figure size 432x288 with 1 Axes>"
      ]
     },
     "metadata": {
      "needs_background": "light"
     },
     "output_type": "display_data"
    }
   ],
   "source": [
    "cnn.ploting_data(training_data, 1)"
   ]
  },
  {
   "cell_type": "markdown",
   "metadata": {},
   "source": [
    "#### 7. Call the Net class a.k.a. Convolutional Neural Network model"
   ]
  },
  {
   "cell_type": "code",
   "execution_count": 10,
   "metadata": {},
   "outputs": [
    {
     "data": {
      "text/plain": [
       "Net(\n",
       "  (conv1): Conv2d(1, 8, kernel_size=(5, 5), stride=(1, 1))\n",
       "  (conv2): Conv2d(8, 16, kernel_size=(5, 5), stride=(1, 1))\n",
       "  (conv3): Conv2d(16, 32, kernel_size=(5, 5), stride=(1, 1))\n",
       "  (conv4): Conv2d(32, 64, kernel_size=(5, 5), stride=(1, 1))\n",
       "  (fc1): Linear(in_features=85376, out_features=64, bias=True)\n",
       "  (fc2): Linear(in_features=64, out_features=4, bias=True)\n",
       ")"
      ]
     },
     "execution_count": 10,
     "metadata": {},
     "output_type": "execute_result"
    }
   ],
   "source": [
    "cnn.Net(1, 800, 536, 8, 5, 4)"
   ]
  },
  {
   "cell_type": "markdown",
   "metadata": {},
   "source": [
    "#### 8. Transform the array-form data into tensor form"
   ]
  },
  {
   "cell_type": "code",
   "execution_count": 11,
   "metadata": {},
   "outputs": [],
   "source": [
    "tensor_image = cnn.image_to_tensor(training_data, 800, 536)"
   ]
  },
  {
   "cell_type": "code",
   "execution_count": 12,
   "metadata": {},
   "outputs": [],
   "source": [
    "tensor_type = cnn.type_to_tensor(training_data)"
   ]
  },
  {
   "cell_type": "markdown",
   "metadata": {},
   "source": [
    "#### 9. Separating the training sample and testing sample\n",
    "* training_sample_image\n",
    "* training_sample_type\n",
    "* testing_sample_image\n",
    "* testing_sample_type"
   ]
  },
  {
   "cell_type": "code",
   "execution_count": 13,
   "metadata": {},
   "outputs": [
    {
     "name": "stdout",
     "output_type": "stream",
     "text": [
      "Training Samples: 634\n"
     ]
    }
   ],
   "source": [
    "training_sample_image = cnn.data_separation(tensor_image, 0.2, True, False)"
   ]
  },
  {
   "cell_type": "code",
   "execution_count": 14,
   "metadata": {},
   "outputs": [
    {
     "name": "stdout",
     "output_type": "stream",
     "text": [
      "Training Samples: 634\n"
     ]
    }
   ],
   "source": [
    "training_sample_type = cnn.data_separation(tensor_type, 0.2, True, False)"
   ]
  },
  {
   "cell_type": "code",
   "execution_count": 15,
   "metadata": {},
   "outputs": [
    {
     "name": "stdout",
     "output_type": "stream",
     "text": [
      "Testing Samples: 158\n"
     ]
    }
   ],
   "source": [
    "testing_sample_image = cnn.data_separation(tensor_image, 0.2, False, True)"
   ]
  },
  {
   "cell_type": "code",
   "execution_count": 16,
   "metadata": {},
   "outputs": [
    {
     "name": "stdout",
     "output_type": "stream",
     "text": [
      "Testing Samples: 158\n"
     ]
    }
   ],
   "source": [
    "testing_sample_type = cnn.data_separation(tensor_type, 0.2, False, True)"
   ]
  },
  {
   "cell_type": "markdown",
   "metadata": {},
   "source": [
    "#### 10. Use the learning function to check the loss"
   ]
  },
  {
   "cell_type": "code",
   "execution_count": 17,
   "metadata": {
    "scrolled": true
   },
   "outputs": [
    {
     "name": "stderr",
     "output_type": "stream",
     "text": [
      "100%|██████████████████████████████████████████████████████████████████████████████████| 64/64 [03:03<00:00,  2.87s/it]\n"
     ]
    },
    {
     "name": "stdout",
     "output_type": "stream",
     "text": [
      "tensor(0.2262, grad_fn=<MseLossBackward>)\n"
     ]
    },
    {
     "name": "stderr",
     "output_type": "stream",
     "text": [
      "100%|██████████████████████████████████████████████████████████████████████████████████| 64/64 [03:04<00:00,  2.88s/it]\n"
     ]
    },
    {
     "name": "stdout",
     "output_type": "stream",
     "text": [
      "tensor(0.2536, grad_fn=<MseLossBackward>)\n"
     ]
    },
    {
     "name": "stderr",
     "output_type": "stream",
     "text": [
      "100%|██████████████████████████████████████████████████████████████████████████████████| 64/64 [03:07<00:00,  2.93s/it]\n"
     ]
    },
    {
     "name": "stdout",
     "output_type": "stream",
     "text": [
      "tensor(0.3377, grad_fn=<MseLossBackward>)\n"
     ]
    }
   ],
   "source": [
    "cnn.learning(training_sample_image, training_sample_type, 1, 800, 536, 8, 5, 4, 0.001, 10, 3)"
   ]
  },
  {
   "cell_type": "markdown",
   "metadata": {},
   "source": [
    "#### 11. Use the accuracy function to check the accuracy"
   ]
  },
  {
   "cell_type": "code",
   "execution_count": 18,
   "metadata": {
    "scrolled": true
   },
   "outputs": [
    {
     "name": "stderr",
     "output_type": "stream",
     "text": [
      "100%|████████████████████████████████████████████████████████████████████████████████| 158/158 [01:23<00:00,  1.90it/s]\n"
     ]
    },
    {
     "name": "stdout",
     "output_type": "stream",
     "text": [
      "Accuracy: 0.247\n"
     ]
    },
    {
     "data": {
      "text/plain": [
       "0.247"
      ]
     },
     "execution_count": 18,
     "metadata": {},
     "output_type": "execute_result"
    }
   ],
   "source": [
    "cnn.accuracy(testing_sample_image, testing_sample_type, 1, 800, 536, 8, 5, 4)"
   ]
  },
  {
   "cell_type": "markdown",
   "metadata": {},
   "source": [
    "### The following step is importing random (unlabeled) data into the Neural Network Nodel \n",
    "*Try to get the prediction result from the model*"
   ]
  },
  {
   "cell_type": "code",
   "execution_count": 28,
   "metadata": {},
   "outputs": [
    {
     "data": {
      "text/plain": [
       "['Nyquist/Random', 'predicting.npy']"
      ]
     },
     "execution_count": 28,
     "metadata": {},
     "output_type": "execute_result"
    }
   ],
   "source": [
    "PREDICT = ['Nyquist/Random','predicting.npy']\n",
    "PREDICT"
   ]
  },
  {
   "cell_type": "code",
   "execution_count": 29,
   "metadata": {},
   "outputs": [
    {
     "name": "stdout",
     "output_type": "stream",
     "text": [
      "Nyquist/Random\n"
     ]
    },
    {
     "name": "stderr",
     "output_type": "stream",
     "text": [
      "100%|█████████████████████████████████████████████████████████████████████████████████| 36/36 [00:00<00:00, 235.92it/s]\n"
     ]
    },
    {
     "name": "stdout",
     "output_type": "stream",
     "text": [
      "Nyquist/Random : 35\n"
     ]
    }
   ],
   "source": [
    "cnn.Build_Data(False, True, 1, PREDICT, 800, 536)"
   ]
  },
  {
   "cell_type": "code",
   "execution_count": 30,
   "metadata": {},
   "outputs": [],
   "source": [
    "random_data = cnn.load_array_data('predicting.npy')"
   ]
  },
  {
   "cell_type": "code",
   "execution_count": 31,
   "metadata": {},
   "outputs": [
    {
     "name": "stdout",
     "output_type": "stream",
     "text": [
      "Type of input_data: <class 'numpy.ndarray'>\n",
      "Size of imput_data: 35\n",
      "Size of image(after rescale): 800 x 536\n"
     ]
    }
   ],
   "source": [
    "cnn.data_information(random_data)"
   ]
  },
  {
   "cell_type": "code",
   "execution_count": 32,
   "metadata": {},
   "outputs": [
    {
     "name": "stdout",
     "output_type": "stream",
     "text": [
      "Nyquist/Random\\200315-0020_sim_one-True.png\n"
     ]
    },
    {
     "data": {
      "image/png": "[encoded data removed]",
      "text/plain": [
       "<Figure size 432x288 with 1 Axes>"
      ]
     },
     "metadata": {
      "needs_background": "light"
     },
     "output_type": "display_data"
    }
   ],
   "source": [
    "cnn.ploting_data(random_data, 1)"
   ]
  },
  {
   "cell_type": "code",
   "execution_count": 33,
   "metadata": {},
   "outputs": [],
   "source": [
    "tensor_image = cnn.image_to_tensor(random_data, 800, 536)"
   ]
  },
  {
   "cell_type": "code",
   "execution_count": 34,
   "metadata": {},
   "outputs": [
    {
     "name": "stdout",
     "output_type": "stream",
     "text": [
      "Type Prediction: Nyquist/SingleHump\n",
      "Path and File Name Nyquist/Random\\200315-0421_sim_spread.png\n",
      "Type Prediction: Nyquist/Noisy\n",
      "Path and File Name Nyquist/Random\\200315-0020_sim_one-True.png\n",
      "Type Prediction: Nyquist/Noisy\n",
      "Path and File Name Nyquist/Random\\200315-0125_sim_one.png\n",
      "Type Prediction: Nyquist/Tail\n",
      "Path and File Name Nyquist/Random\\200315-0090_sim_one.png\n",
      "Type Prediction: Nyquist/SingleHump\n",
      "Path and File Name Nyquist/Random\\200315-0426_sim_spread.png\n",
      "Type Prediction: Nyquist/Noisy\n",
      "Path and File Name Nyquist/Random\\200315-0359_sim_spread.png\n",
      "Type Prediction: Nyquist/Tail\n",
      "Path and File Name Nyquist/Random\\200315-0092_randles_simp.png\n",
      "Type Prediction: Nyquist/Tail\n",
      "Path and File Name Nyquist/Random\\200315-0112_randles_simp.png\n",
      "Type Prediction: Nyquist/Noisy\n",
      "Path and File Name Nyquist/Random\\200315-0125_randles_simp.png\n",
      "Type Prediction: Nyquist/TwoHumps\n",
      "Path and File Name Nyquist/Random\\200315-0422_sim_spread.png\n",
      "Type Prediction: Nyquist/Noisy\n",
      "Path and File Name Nyquist/Random\\200315-0129_sim_one.png\n",
      "Type Prediction: Nyquist/SingleHump\n",
      "Path and File Name Nyquist/Random\\200315-0025_sim_one-True.png\n",
      "Type Prediction: Nyquist/Noisy\n",
      "Path and File Name Nyquist/Random\\200315-0091_randles_simp.png\n",
      "Type Prediction: Nyquist/TwoHumps\n",
      "Path and File Name Nyquist/Random\\200315-0091_sim_one.png\n",
      "Type Prediction: Nyquist/TwoHumps\n",
      "Path and File Name Nyquist/Random\\200315-0488_sim_spread.png\n",
      "Type Prediction: Nyquist/SingleHump\n",
      "Path and File Name Nyquist/Random\\200315-0025_randles_simp-True.png\n",
      "Type Prediction: Nyquist/SingleHump\n",
      "Path and File Name Nyquist/Random\\200315-0364_sim_spread.png\n",
      "Type Prediction: Nyquist/SingleHump\n",
      "Path and File Name Nyquist/Random\\200315-0020_randles_simp-True.png\n",
      "Type Prediction: Nyquist/SingleHump\n",
      "Path and File Name Nyquist/Random\\200315-0139_sim_one.png\n",
      "Type Prediction: Nyquist/TwoHumps\n",
      "Path and File Name Nyquist/Random\\200315-0024_sim_one-True.png\n",
      "Type Prediction: Nyquist/TwoHumps\n",
      "Path and File Name Nyquist/Random\\200315-0140_randles_simp.png\n",
      "Type Prediction: Nyquist/TwoHumps\n",
      "Path and File Name Nyquist/Random\\200315-0363_sim_spread.png\n",
      "Type Prediction: Nyquist/TwoHumps\n",
      "Path and File Name Nyquist/Random\\200315-0093_randles_simp.png\n",
      "Type Prediction: Nyquist/Tail\n",
      "Path and File Name Nyquist/Random\\200315-0485_sim_spread.png\n",
      "Type Prediction: Nyquist/Tail\n",
      "Path and File Name Nyquist/Random\\200315-0032_sim_one-True.png\n",
      "Type Prediction: Nyquist/Tail\n",
      "Path and File Name Nyquist/Random\\200315-0113_sim_one.png\n",
      "Type Prediction: Nyquist/Tail\n",
      "Path and File Name Nyquist/Random\\200315-0025_sim_spread-True.png\n",
      "Type Prediction: Nyquist/TwoHumps\n",
      "Path and File Name Nyquist/Random\\200315-0092_sim_one.png\n",
      "Type Prediction: Nyquist/SingleHump\n",
      "Path and File Name Nyquist/Random\\200315-0484_sim_spread.png\n",
      "Type Prediction: Nyquist/TwoHumps\n",
      "Path and File Name Nyquist/Random\\200315-0114_randles_simp.png\n",
      "Type Prediction: Nyquist/SingleHump\n",
      "Path and File Name Nyquist/Random\\200315-0140_sim_one.png\n",
      "Type Prediction: Nyquist/SingleHump\n",
      "Path and File Name Nyquist/Random\\200315-0113_randles_simp.png\n",
      "Type Prediction: Nyquist/SingleHump\n",
      "Path and File Name Nyquist/Random\\200315-0019_sim_spread-True.png\n",
      "Type Prediction: Nyquist/Noisy\n",
      "Path and File Name Nyquist/Random\\200315-0024_sim_spread-True.png\n",
      "Type Prediction: Nyquist/Noisy\n",
      "Path and File Name Nyquist/Random\\200315-0103_sim_one.png\n",
      "Nyquist/Noisy : 8\n",
      "Nyquist/SingleHump : 11\n",
      "Nyquist/TwoHumps : 9\n",
      "Nyquist/Tail : 7\n"
     ]
    }
   ],
   "source": [
    "cnn.type_prediction(4, DATASET, tensor_image, random_data, 1, 800, 536, 8, 5, 4, True)"
   ]
  },
  {
   "cell_type": "code",
   "execution_count": null,
   "metadata": {},
   "outputs": [],
   "source": []
  }
 ],
 "metadata": {
  "kernelspec": {
   "display_name": "Python 3",
   "language": "python",
   "name": "python3"
  },
  "language_info": {
   "codemirror_mode": {
    "name": "ipython",
    "version": 3
   },
   "file_extension": ".py",
   "mimetype": "text/x-python",
   "name": "python",
   "nbconvert_exporter": "python",
   "pygments_lexer": "ipython3",
   "version": "3.7.4"
  }
 },
 "nbformat": 4,
 "nbformat_minor": 2
}
